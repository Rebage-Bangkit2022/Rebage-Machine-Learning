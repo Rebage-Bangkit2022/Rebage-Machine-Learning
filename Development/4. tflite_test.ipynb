{
 "cells": [
  {
   "cell_type": "markdown",
   "metadata": {},
   "source": [
    "Untuk uji coba dapat dilakukan konfigurasi: <br>\n",
    "- variabel MODEL_PATH, threshold, dan label path"
   ]
  },
  {
   "cell_type": "code",
   "execution_count": 1,
   "metadata": {},
   "outputs": [],
   "source": [
    "import re\n",
    "import cv2\n",
    "import tensorflow as tf\n",
    "import numpy as np"
   ]
  },
  {
   "cell_type": "code",
   "execution_count": 2,
   "metadata": {},
   "outputs": [],
   "source": [
    "CAMERA_WIDTH = 320\n",
    "CAMERA_HEIGHT = 320\n",
    "\n",
    "def load_labels(path='labels.txt'):\n",
    "    \"\"\"Loads the labels file. Supports files with or without index numbers.\"\"\"\n",
    "    with open(path, 'r', encoding='utf-8') as f:\n",
    "        lines = f.readlines()\n",
    "        labels = {}\n",
    "        for row_number, content in enumerate(lines):\n",
    "            pair = re.split(r'[:\\s]+', content.strip(), maxsplit=1)\n",
    "            # print(pair)\n",
    "            if len(pair) == 2 and pair[0].strip().isdigit():\n",
    "                labels[int(pair[0])] = pair[1].strip()\n",
    "            else:\n",
    "                labels[row_number] = pair[0].strip()\n",
    "    return labels\n",
    "\n",
    "def set_input_tensor(interpreter, image):\n",
    "    \"\"\"Sets the input tensor.\"\"\"\n",
    "    tensor_index = interpreter.get_input_details()[0]['index']\n",
    "    input_tensor = interpreter.tensor(tensor_index)()[0]\n",
    "    input_tensor[:, :] = np.expand_dims((image-255)/255, axis=0)\n",
    "\n",
    "\n",
    "def get_output_tensor(interpreter, index):\n",
    "    \"\"\"Returns the output tensor at the given index.\"\"\"\n",
    "    output_details = interpreter.get_output_details()[index]\n",
    "    tensor = np.squeeze(interpreter.get_tensor(output_details['index']))\n",
    "    return tensor\n",
    "\n",
    "\n",
    "def detect_objects(interpreter, image, threshold):\n",
    "    \"\"\"Returns a list of detection results, each a dictionary of object info.\"\"\"\n",
    "    set_input_tensor(interpreter, image)\n",
    "    interpreter.invoke()\n",
    "    # Get all output details [harusnya ini yang bener; boxes, classes, scores, dan count]\n",
    "    # boxes = get_output_tensor(interpreter, 0)\n",
    "    # classes = get_output_tensor(interpreter, 1)\n",
    "    # scores = get_output_tensor(interpreter, 2)\n",
    "    # count = get_output_tensor(interpreter, 3)\n",
    "    \n",
    "    scores = get_output_tensor(interpreter, 0)\n",
    "    boxes = get_output_tensor(interpreter, 1)\n",
    "    count = int(get_output_tensor(interpreter, 2))\n",
    "    classes = get_output_tensor(interpreter, 3)\n",
    "    \n",
    "    results = []\n",
    "    for i in range(count):\n",
    "        if scores[i] >= threshold:\n",
    "            result = {\n",
    "                'bounding_box': boxes[i],\n",
    "                'class_id': classes[i],\n",
    "                'score': scores[i]\n",
    "            }\n",
    "            results.append(result)\n",
    "    return results"
   ]
  },
  {
   "cell_type": "code",
   "execution_count": 4,
   "metadata": {},
   "outputs": [],
   "source": [
    "labels = load_labels()\n",
    "MODEL_PATH = r'.\\Tensorflow\\workspace\\models\\my_ssd_mobnet_3\\tfliteexport\\saved_model\\detect.tflite'\n",
    "interpreter = tf.lite.Interpreter(MODEL_PATH)\n",
    "interpreter.allocate_tensors()\n",
    "_, input_height, input_width, _ = interpreter.get_input_details()[0]['shape']"
   ]
  },
  {
   "cell_type": "code",
   "execution_count": null,
   "metadata": {},
   "outputs": [],
   "source": [
    "cap = cv2.VideoCapture(0)\n",
    "while cap.isOpened():\n",
    "    ret, frame = cap.read()\n",
    "    img = cv2.resize(cv2.cvtColor(frame, cv2.COLOR_BGR2RGB), (320,320))\n",
    "    threshold = .5\n",
    "    res = detect_objects(interpreter, img, threshold)\n",
    "    print(res)\n",
    "\n",
    "    for result in res:\n",
    "        ymin, xmin, ymax, xmax = result['bounding_box']\n",
    "        xmin = int(max(1,xmin * CAMERA_WIDTH))\n",
    "        xmax = int(min(CAMERA_WIDTH, xmax * CAMERA_WIDTH))\n",
    "        ymin = int(max(1, ymin * CAMERA_HEIGHT))\n",
    "        ymax = int(min(CAMERA_HEIGHT, ymax * CAMERA_HEIGHT))\n",
    "        \n",
    "        cv2.rectangle(frame,(xmin, ymin),(xmax, ymax),(0,255,0),3)\n",
    "        cv2.putText(frame,labels[int(result['class_id'])],(xmin, min(ymax, CAMERA_HEIGHT-20)), cv2.FONT_HERSHEY_SIMPLEX, 0.5,(255,255,255),2,cv2.LINE_AA) \n",
    "\n",
    "    cv2.imshow('Pi Feed', frame)\n",
    "\n",
    "    if cv2.waitKey(10) & 0xFF ==ord('q'):\n",
    "        cap.release()\n",
    "        cv2.destroyAllWindows()"
   ]
  },
  {
   "cell_type": "code",
   "execution_count": 42,
   "metadata": {},
   "outputs": [],
   "source": [
    "cap.release()\n",
    "cv2.destroyAllWindows()"
   ]
  }
 ],
 "metadata": {
  "interpreter": {
   "hash": "f08154012ddadd8e950e6e9e035c7a7b32c136e7647e9b7c77e02eb723a8bedb"
  },
  "kernelspec": {
   "display_name": "Python 3.9.12 ('base')",
   "language": "python",
   "name": "python3"
  },
  "language_info": {
   "codemirror_mode": {
    "name": "ipython",
    "version": 3
   },
   "file_extension": ".py",
   "mimetype": "text/x-python",
   "name": "python",
   "nbconvert_exporter": "python",
   "pygments_lexer": "ipython3",
   "version": "3.9.12"
  },
  "orig_nbformat": 4
 },
 "nbformat": 4,
 "nbformat_minor": 2
}
