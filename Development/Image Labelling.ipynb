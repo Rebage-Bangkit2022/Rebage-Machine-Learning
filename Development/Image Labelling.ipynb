{
 "cells": [
  {
   "cell_type": "markdown",
   "metadata": {},
   "source": [
    "# 1. Labelling Image\n",
    "\n",
    "Run the cell below to start labelling image."
   ]
  },
  {
   "cell_type": "code",
   "execution_count": 10,
   "metadata": {},
   "outputs": [
    {
     "name": "stdout",
     "output_type": "stream",
     "text": [
      "Image:C:\\Users\\MSI-GAMMING\\Documents\\COOLYEAH\\Bangkit\\Capstone Project\\Rebage-Machine-Learning\\Development\\Tensorflow\\workspace\\images\\unlabeled\\kardus\\IMG_20220520_223938.jpg -> Annotation:C:/Users/MSI-GAMMING/Documents/COOLYEAH/Bangkit/Capstone Project/Rebage-Machine-Learning/Development/Tensorflow/workspace/images/unlabeled/kardus\\IMG_20220520_223938.xml\n",
      "ESC press\n",
      "Cancel creation.\n",
      "Image:C:\\Users\\MSI-GAMMING\\Documents\\COOLYEAH\\Bangkit\\Capstone Project\\Rebage-Machine-Learning\\Development\\Tensorflow\\workspace\\images\\unlabeled\\kardus\\IMG_20220520_224347.jpg -> Annotation:C:/Users/MSI-GAMMING/Documents/COOLYEAH/Bangkit/Capstone Project/Rebage-Machine-Learning/Development/Tensorflow/workspace/images/unlabeled/kardus\\IMG_20220520_224347.xml\n",
      "Image:C:\\Users\\MSI-GAMMING\\Documents\\COOLYEAH\\Bangkit\\Capstone Project\\Rebage-Machine-Learning\\Development\\Tensorflow\\workspace\\images\\unlabeled\\kardus\\IMG_20220520_224353.jpg -> Annotation:C:/Users/MSI-GAMMING/Documents/COOLYEAH/Bangkit/Capstone Project/Rebage-Machine-Learning/Development/Tensorflow/workspace/images/unlabeled/kardus\\IMG_20220520_224353.xml\n",
      "Image:C:\\Users\\MSI-GAMMING\\Documents\\COOLYEAH\\Bangkit\\Capstone Project\\Rebage-Machine-Learning\\Development\\Tensorflow\\workspace\\images\\unlabeled\\karet\\IMG_20220520_231926.jpg -> Annotation:C:/Users/MSI-GAMMING/Documents/COOLYEAH/Bangkit/Capstone Project/Rebage-Machine-Learning/Development/Tensorflow/workspace/images/unlabeled/karet\\IMG_20220520_231926.xml\n",
      "Image:C:\\Users\\MSI-GAMMING\\Documents\\COOLYEAH\\Bangkit\\Capstone Project\\Rebage-Machine-Learning\\Development\\Tensorflow\\workspace\\images\\unlabeled\\karet\\IMG_20220520_231929.jpg -> Annotation:C:/Users/MSI-GAMMING/Documents/COOLYEAH/Bangkit/Capstone Project/Rebage-Machine-Learning/Development/Tensorflow/workspace/images/unlabeled/karet\\IMG_20220520_231929.xml\n"
     ]
    }
   ],
   "source": [
    "import os\n",
    "\n",
    "\n",
    "LABELIMG_PATH = os.path.join('Tensorflow', 'labelimg')\n",
    "\n",
    "!cd {LABELIMG_PATH} && python labelImg.py"
   ]
  },
  {
   "cell_type": "markdown",
   "metadata": {},
   "source": [
    "# 2. Move labeled image to coresponding folder"
   ]
  },
  {
   "cell_type": "code",
   "execution_count": 11,
   "metadata": {},
   "outputs": [
    {
     "name": "stdout",
     "output_type": "stream",
     "text": [
      "Copying 0 botolkaca image(s) and xml file(s)...\n",
      "Copying 0 botolplastik image(s) and xml file(s)...\n",
      "Copying 0 kaleng image(s) and xml file(s)...\n",
      "Copying 3 kardus image(s) and xml file(s)...\n"
     ]
    },
    {
     "ename": "FileNotFoundError",
     "evalue": "[Errno 2] No such file or directory: 'Tensorflow\\\\workspace\\\\images\\\\unlabeled\\\\kardus\\\\IMG_20220520_223938..jpg'",
     "output_type": "error",
     "traceback": [
      "\u001b[1;31m---------------------------------------------------------------------------\u001b[0m",
      "\u001b[1;31mFileNotFoundError\u001b[0m                         Traceback (most recent call last)",
      "File \u001b[1;32mc:\\Users\\MSI-GAMMING\\.conda\\envs\\tfod\\lib\\shutil.py:791\u001b[0m, in \u001b[0;36mmove\u001b[1;34m(src, dst, copy_function)\u001b[0m\n\u001b[0;32m    <a href='file:///c%3A/Users/MSI-GAMMING/.conda/envs/tfod/lib/shutil.py?line=789'>790</a>\u001b[0m \u001b[39mtry\u001b[39;00m:\n\u001b[1;32m--> <a href='file:///c%3A/Users/MSI-GAMMING/.conda/envs/tfod/lib/shutil.py?line=790'>791</a>\u001b[0m     os\u001b[39m.\u001b[39;49mrename(src, real_dst)\n\u001b[0;32m    <a href='file:///c%3A/Users/MSI-GAMMING/.conda/envs/tfod/lib/shutil.py?line=791'>792</a>\u001b[0m \u001b[39mexcept\u001b[39;00m \u001b[39mOSError\u001b[39;00m:\n",
      "\u001b[1;31mFileNotFoundError\u001b[0m: [WinError 2] The system cannot find the file specified: 'Tensorflow\\\\workspace\\\\images\\\\unlabeled\\\\kardus\\\\IMG_20220520_223938..jpg' -> 'Tensorflow\\\\workspace\\\\images\\\\collectedimages\\\\kardus\\\\Tensorflow\\\\workspace\\\\images\\\\unlabeled\\\\kardus\\\\IMG_20220520_223938..jpg'",
      "\nDuring handling of the above exception, another exception occurred:\n",
      "\u001b[1;31mFileNotFoundError\u001b[0m                         Traceback (most recent call last)",
      "\u001b[1;32mc:\\Users\\MSI-GAMMING\\Documents\\COOLYEAH\\Bangkit\\Capstone Project\\Rebage-Machine-Learning\\Development\\Image Labelling.ipynb Cell 4'\u001b[0m in \u001b[0;36m<cell line: 20>\u001b[1;34m()\u001b[0m\n\u001b[0;32m     <a href='vscode-notebook-cell:/c%3A/Users/MSI-GAMMING/Documents/COOLYEAH/Bangkit/Capstone%20Project/Rebage-Machine-Learning/Development/Image%20Labelling.ipynb#ch0000003?line=28'>29</a>\u001b[0m jpg_path \u001b[39m=\u001b[39m os\u001b[39m.\u001b[39mpath\u001b[39m.\u001b[39mjoin(unlabeled_folder_path, file)[:\u001b[39m-\u001b[39m\u001b[39m3\u001b[39m] \u001b[39m+\u001b[39m \u001b[39m'\u001b[39m\u001b[39m.jpg\u001b[39m\u001b[39m'\u001b[39m\n\u001b[0;32m     <a href='vscode-notebook-cell:/c%3A/Users/MSI-GAMMING/Documents/COOLYEAH/Bangkit/Capstone%20Project/Rebage-Machine-Learning/Development/Image%20Labelling.ipynb#ch0000003?line=29'>30</a>\u001b[0m xml_path \u001b[39m=\u001b[39m os\u001b[39m.\u001b[39mpath\u001b[39m.\u001b[39mjoin(unlabeled_folder_path, file)\n\u001b[1;32m---> <a href='vscode-notebook-cell:/c%3A/Users/MSI-GAMMING/Documents/COOLYEAH/Bangkit/Capstone%20Project/Rebage-Machine-Learning/Development/Image%20Labelling.ipynb#ch0000003?line=30'>31</a>\u001b[0m shutil\u001b[39m.\u001b[39;49mmove(jpg_path, os\u001b[39m.\u001b[39;49mpath\u001b[39m.\u001b[39;49mjoin(LABELED_PATH, folder, jpg_path))\n\u001b[0;32m     <a href='vscode-notebook-cell:/c%3A/Users/MSI-GAMMING/Documents/COOLYEAH/Bangkit/Capstone%20Project/Rebage-Machine-Learning/Development/Image%20Labelling.ipynb#ch0000003?line=31'>32</a>\u001b[0m shutil\u001b[39m.\u001b[39mmove(xml_path, os\u001b[39m.\u001b[39mpath\u001b[39m.\u001b[39mjoin(LABELED_PATH, folder, xml_path))\n",
      "File \u001b[1;32mc:\\Users\\MSI-GAMMING\\.conda\\envs\\tfod\\lib\\shutil.py:805\u001b[0m, in \u001b[0;36mmove\u001b[1;34m(src, dst, copy_function)\u001b[0m\n\u001b[0;32m    <a href='file:///c%3A/Users/MSI-GAMMING/.conda/envs/tfod/lib/shutil.py?line=802'>803</a>\u001b[0m         rmtree(src)\n\u001b[0;32m    <a href='file:///c%3A/Users/MSI-GAMMING/.conda/envs/tfod/lib/shutil.py?line=803'>804</a>\u001b[0m     \u001b[39melse\u001b[39;00m:\n\u001b[1;32m--> <a href='file:///c%3A/Users/MSI-GAMMING/.conda/envs/tfod/lib/shutil.py?line=804'>805</a>\u001b[0m         copy_function(src, real_dst)\n\u001b[0;32m    <a href='file:///c%3A/Users/MSI-GAMMING/.conda/envs/tfod/lib/shutil.py?line=805'>806</a>\u001b[0m         os\u001b[39m.\u001b[39munlink(src)\n\u001b[0;32m    <a href='file:///c%3A/Users/MSI-GAMMING/.conda/envs/tfod/lib/shutil.py?line=806'>807</a>\u001b[0m \u001b[39mreturn\u001b[39;00m real_dst\n",
      "File \u001b[1;32mc:\\Users\\MSI-GAMMING\\.conda\\envs\\tfod\\lib\\shutil.py:435\u001b[0m, in \u001b[0;36mcopy2\u001b[1;34m(src, dst, follow_symlinks)\u001b[0m\n\u001b[0;32m    <a href='file:///c%3A/Users/MSI-GAMMING/.conda/envs/tfod/lib/shutil.py?line=432'>433</a>\u001b[0m \u001b[39mif\u001b[39;00m os\u001b[39m.\u001b[39mpath\u001b[39m.\u001b[39misdir(dst):\n\u001b[0;32m    <a href='file:///c%3A/Users/MSI-GAMMING/.conda/envs/tfod/lib/shutil.py?line=433'>434</a>\u001b[0m     dst \u001b[39m=\u001b[39m os\u001b[39m.\u001b[39mpath\u001b[39m.\u001b[39mjoin(dst, os\u001b[39m.\u001b[39mpath\u001b[39m.\u001b[39mbasename(src))\n\u001b[1;32m--> <a href='file:///c%3A/Users/MSI-GAMMING/.conda/envs/tfod/lib/shutil.py?line=434'>435</a>\u001b[0m copyfile(src, dst, follow_symlinks\u001b[39m=\u001b[39;49mfollow_symlinks)\n\u001b[0;32m    <a href='file:///c%3A/Users/MSI-GAMMING/.conda/envs/tfod/lib/shutil.py?line=435'>436</a>\u001b[0m copystat(src, dst, follow_symlinks\u001b[39m=\u001b[39mfollow_symlinks)\n\u001b[0;32m    <a href='file:///c%3A/Users/MSI-GAMMING/.conda/envs/tfod/lib/shutil.py?line=436'>437</a>\u001b[0m \u001b[39mreturn\u001b[39;00m dst\n",
      "File \u001b[1;32mc:\\Users\\MSI-GAMMING\\.conda\\envs\\tfod\\lib\\shutil.py:264\u001b[0m, in \u001b[0;36mcopyfile\u001b[1;34m(src, dst, follow_symlinks)\u001b[0m\n\u001b[0;32m    <a href='file:///c%3A/Users/MSI-GAMMING/.conda/envs/tfod/lib/shutil.py?line=261'>262</a>\u001b[0m     os\u001b[39m.\u001b[39msymlink(os\u001b[39m.\u001b[39mreadlink(src), dst)\n\u001b[0;32m    <a href='file:///c%3A/Users/MSI-GAMMING/.conda/envs/tfod/lib/shutil.py?line=262'>263</a>\u001b[0m \u001b[39melse\u001b[39;00m:\n\u001b[1;32m--> <a href='file:///c%3A/Users/MSI-GAMMING/.conda/envs/tfod/lib/shutil.py?line=263'>264</a>\u001b[0m     \u001b[39mwith\u001b[39;00m \u001b[39mopen\u001b[39;49m(src, \u001b[39m'\u001b[39;49m\u001b[39mrb\u001b[39;49m\u001b[39m'\u001b[39;49m) \u001b[39mas\u001b[39;00m fsrc, \u001b[39mopen\u001b[39m(dst, \u001b[39m'\u001b[39m\u001b[39mwb\u001b[39m\u001b[39m'\u001b[39m) \u001b[39mas\u001b[39;00m fdst:\n\u001b[0;32m    <a href='file:///c%3A/Users/MSI-GAMMING/.conda/envs/tfod/lib/shutil.py?line=264'>265</a>\u001b[0m         \u001b[39m# macOS\u001b[39;00m\n\u001b[0;32m    <a href='file:///c%3A/Users/MSI-GAMMING/.conda/envs/tfod/lib/shutil.py?line=265'>266</a>\u001b[0m         \u001b[39mif\u001b[39;00m _HAS_FCOPYFILE:\n\u001b[0;32m    <a href='file:///c%3A/Users/MSI-GAMMING/.conda/envs/tfod/lib/shutil.py?line=266'>267</a>\u001b[0m             \u001b[39mtry\u001b[39;00m:\n",
      "\u001b[1;31mFileNotFoundError\u001b[0m: [Errno 2] No such file or directory: 'Tensorflow\\\\workspace\\\\images\\\\unlabeled\\\\kardus\\\\IMG_20220520_223938..jpg'"
     ]
    }
   ],
   "source": [
    "import os\n",
    "import shutil\n",
    "\n",
    "UNLABELED_PATH = os.path.join(\n",
    "                                'Tensorflow',\n",
    "                                'workspace',\n",
    "                                'images',\n",
    "                                'unlabeled'\n",
    "                                                )\n",
    "LABELED_PATH = os.path.join(\n",
    "                                'Tensorflow',\n",
    "                                'workspace',\n",
    "                                'images',\n",
    "                                'collectedimages'\n",
    "                                                )\n",
    "\n",
    "folders = [folder for folder in os.listdir(UNLABELED_PATH)]\n",
    "\n",
    "# Create list for labeled images\n",
    "for folder in folders:\n",
    "    img_with_xml = []\n",
    "    unlabeled_folder_path = os.path.join(UNLABELED_PATH, folder)\n",
    "    img_with_xml = [file for file in os.listdir(unlabeled_folder_path) if file.endswith('xml')]\n",
    "\n",
    "    print(\"Copying {} {} image(s) and xml file(s)...\".format(len(img_with_xml), folder))\n",
    "\n",
    "    # Copy labeled image\n",
    "    for file in img_with_xml:\n",
    "        jpg_path = os.path.join(unlabeled_folder_path, file)[:-3] + 'jpg'\n",
    "        xml_path = os.path.join(unlabeled_folder_path, file)\n",
    "        shutil.move(jpg_path, os.path.join(LABELED_PATH, folder, jpg_path))\n",
    "        shutil.move(xml_path, os.path.join(LABELED_PATH, folder, xml_path))"
   ]
  }
 ],
 "metadata": {
  "interpreter": {
   "hash": "f55f91a51e0f0e381fa205f31377c70e0ffe7773aa4cef5a8c230d8bd28c39f9"
  },
  "kernelspec": {
   "display_name": "Python 3.8.8 ('tfod')",
   "language": "python",
   "name": "python3"
  },
  "language_info": {
   "codemirror_mode": {
    "name": "ipython",
    "version": 3
   },
   "file_extension": ".py",
   "mimetype": "text/x-python",
   "name": "python",
   "nbconvert_exporter": "python",
   "pygments_lexer": "ipython3",
   "version": "3.8.8"
  }
 },
 "nbformat": 4,
 "nbformat_minor": 2
}
