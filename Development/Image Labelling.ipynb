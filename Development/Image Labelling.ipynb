{
 "cells": [
  {
   "cell_type": "markdown",
   "metadata": {},
   "source": [
    "# 1. Labelling Image\n",
    "\n",
    "Run the cell below to start labelling image."
   ]
  },
  {
   "cell_type": "code",
   "execution_count": null,
   "metadata": {},
   "outputs": [],
   "source": [
    "import os\n",
    "\n",
    "\n",
    "LABELIMG_PATH = os.path.join('Tensorflow', 'labelimg')\n",
    "\n",
    "!cd {LABELIMG_PATH} && python labelImg.py"
   ]
  },
  {
   "cell_type": "markdown",
   "metadata": {},
   "source": [
    "# 2. Move labeled image to coresponding folder"
   ]
  },
  {
   "cell_type": "code",
   "execution_count": 6,
   "metadata": {},
   "outputs": [
    {
     "name": "stdout",
     "output_type": "stream",
     "text": [
      "Copying 0 botolkaca image(s) and xml file(s)...\n",
      "Copying 0 botolplastik image(s) and xml file(s)...\n",
      "Copying 0 kaleng image(s) and xml file(s)...\n",
      "Copying 0 kardus image(s) and xml file(s)...\n",
      "Copying 0 karet image(s) and xml file(s)...\n",
      "Copying 0 kertas image(s) and xml file(s)...\n",
      "Copying 0 plastik image(s) and xml file(s)...\n",
      "Copying 100 sedotan image(s) and xml file(s)...\n"
     ]
    }
   ],
   "source": [
    "import os\n",
    "import shutil\n",
    "\n",
    "UNLABELED_PATH = os.path.join(\n",
    "                                'Tensorflow',\n",
    "                                'workspace',\n",
    "                                'images',\n",
    "                                'unlabeled'\n",
    "                                                )\n",
    "LABELED_PATH = os.path.join(\n",
    "                                'Tensorflow',\n",
    "                                'workspace',\n",
    "                                'images',\n",
    "                                'collectedimages'\n",
    "                                                )\n",
    "\n",
    "folders = [folder for folder in os.listdir(UNLABELED_PATH)]\n",
    "\n",
    "# Create list for labeled images\n",
    "for folder in folders:\n",
    "    unlabeled_folder_path = os.path.join(UNLABELED_PATH, folder)\n",
    "    img_with_xml = [file for file in os.listdir(unlabeled_folder_path) if file.endswith('xml')]\n",
    "\n",
    "    print(\"Copying {} {} image(s) and xml file(s)...\".format(len(img_with_xml), folder))\n",
    "\n",
    "    # Copy labeled image\n",
    "    for file in img_with_xml:\n",
    "        jpg_path = os.path.join(unlabeled_folder_path, file)[:-3] + 'jpg'\n",
    "        xml_path = os.path.join(unlabeled_folder_path, file)\n",
    "        shutil.move(jpg_path, os.path.join(LABELED_PATH, folder, file[:-3] + 'jpg'))\n",
    "        shutil.move(xml_path, os.path.join(LABELED_PATH, folder, file))"
   ]
  }
 ],
 "metadata": {
  "interpreter": {
   "hash": "4e1353ffdd73f6fcf1faeb2a098d6e89b403da4e35ef10253e2e46b0c0b38f30"
  },
  "kernelspec": {
   "display_name": "Python 3.7.13 ('python37')",
   "language": "python",
   "name": "python3"
  },
  "language_info": {
   "codemirror_mode": {
    "name": "ipython",
    "version": 3
   },
   "file_extension": ".py",
   "mimetype": "text/x-python",
   "name": "python",
   "nbconvert_exporter": "python",
   "pygments_lexer": "ipython3",
   "version": "3.7.13"
  }
 },
 "nbformat": 4,
 "nbformat_minor": 2
}
