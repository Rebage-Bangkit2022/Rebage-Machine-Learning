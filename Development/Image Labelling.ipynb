{
 "cells": [
  {
   "cell_type": "markdown",
   "metadata": {},
   "source": [
    "# 1. Labelling Image\n",
    "\n",
    "Run the cell below to start labelling image."
   ]
  },
  {
   "cell_type": "code",
   "execution_count": 1,
   "metadata": {},
   "outputs": [],
   "source": [
    "import os\n",
    "\n",
    "\n",
    "LABELIMG_PATH = os.path.join('Tensorflow', 'labelimg')\n",
    "\n",
    "!cd {LABELIMG_PATH} && python labelImg.py"
   ]
  },
  {
   "cell_type": "markdown",
   "metadata": {},
   "source": [
    "# 2. Move labeled image to coresponding folder"
   ]
  },
  {
   "cell_type": "code",
   "execution_count": 4,
   "metadata": {},
   "outputs": [
    {
     "name": "stdout",
     "output_type": "stream",
     "text": [
      "Copying botolkaca 0 image(s) and xml file(s) ...\n",
      "Copying botolplastik 0 image(s) and xml file(s) ...\n",
      "Copying kaleng 0 image(s) and xml file(s) ...\n",
      "Copying kardus 0 image(s) and xml file(s) ...\n",
      "Copying karet 0 image(s) and xml file(s) ...\n",
      "Copying kertas 0 image(s) and xml file(s) ...\n",
      "Copying plastik 0 image(s) and xml file(s) ...\n",
      "Copying sedotan 0 image(s) and xml file(s) ...\n"
     ]
    }
   ],
   "source": [
    "import os\n",
    "import shutil\n",
    "\n",
    "UNLABELED_PATH = os.path.join(\n",
    "                                'Tensorflow',\n",
    "                                'workspace',\n",
    "                                'images',\n",
    "                                'unlabeled'\n",
    "                                                )\n",
    "LABELED_PATH = os.path.join(\n",
    "                                'Tensorflow',\n",
    "                                'workspace',\n",
    "                                'images',\n",
    "                                'collectedimages'\n",
    "                                                )\n",
    "\n",
    "folders = [folder for folder in os.listdir(UNLABELED_PATH)]\n",
    "\n",
    "# Create list for labeled images\n",
    "for folder in folders:\n",
    "    img_with_xml = []\n",
    "    unlabeled_folder_path = os.path.join(UNLABELED_PATH, folder)\n",
    "    img_with_xml = [file for file in os.listdir(unlabeled_folder_path) if file.endswith('xml')]\n",
    "\n",
    "    print(\"Copying {} {} image(s) and xml file(s) ...\".format(len(img_with_xml, folder)))\n",
    "\n",
    "    # Copy labeled image\n",
    "    for file in img_with_xml:\n",
    "        jpg_path = os.path.join(unlabeled_folder_path, file)[:-3] + '.jpg'\n",
    "        xml_path = os.path.join(unlabeled_folder_path, file)\n",
    "        shutil.copyfile(jpg_path, os.path.join(LABELED_PATH, folder, jpg_path))\n",
    "        shutil.copyfile(xml_path, os.path.join(LABELED_PATH, folder, xml_path))"
   ]
  }
 ],
 "metadata": {
  "interpreter": {
   "hash": "f55f91a51e0f0e381fa205f31377c70e0ffe7773aa4cef5a8c230d8bd28c39f9"
  },
  "kernelspec": {
   "display_name": "Python 3.8.8 ('tfod')",
   "language": "python",
   "name": "python3"
  },
  "language_info": {
   "codemirror_mode": {
    "name": "ipython",
    "version": 3
   },
   "file_extension": ".py",
   "mimetype": "text/x-python",
   "name": "python",
   "nbconvert_exporter": "python",
   "pygments_lexer": "ipython3",
   "version": "3.8.8"
  }
 },
 "nbformat": 4,
 "nbformat_minor": 2
}
