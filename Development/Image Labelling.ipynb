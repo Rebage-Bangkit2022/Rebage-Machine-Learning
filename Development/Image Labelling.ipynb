{
 "cells": [
  {
   "cell_type": "markdown",
   "metadata": {},
   "source": [
    "# 1. Labelling Image\n",
    "\n",
    "Run the cell below to start labelling image."
   ]
  },
  {
   "cell_type": "code",
   "execution_count": 14,
   "metadata": {},
   "outputs": [
    {
     "name": "stdout",
     "output_type": "stream",
     "text": [
      "Image:C:\\Users\\MSI-GAMMING\\Documents\\COOLYEAH\\Bangkit\\Capstone Project\\Rebage-Machine-Learning\\Development\\Tensorflow\\workspace\\images\\unlabeled\\karet\\IMG_20220520_231932.jpg -> Annotation:C:/Users/MSI-GAMMING/Documents/COOLYEAH/Bangkit/Capstone Project/Rebage-Machine-Learning/Development/Tensorflow/workspace/images/unlabeled/karet\\IMG_20220520_231932.xml\n",
      "Image:C:\\Users\\MSI-GAMMING\\Documents\\COOLYEAH\\Bangkit\\Capstone Project\\Rebage-Machine-Learning\\Development\\Tensorflow\\workspace\\images\\unlabeled\\kardus\\IMG_20220520_224403.jpg -> Annotation:C:/Users/MSI-GAMMING/Documents/COOLYEAH/Bangkit/Capstone Project/Rebage-Machine-Learning/Development/Tensorflow/workspace/images/unlabeled/kardus\\IMG_20220520_224403.xml\n"
     ]
    }
   ],
   "source": [
    "import os\n",
    "\n",
    "\n",
    "LABELIMG_PATH = os.path.join('Tensorflow', 'labelimg')\n",
    "\n",
    "!cd {LABELIMG_PATH} && python labelImg.py"
   ]
  },
  {
   "cell_type": "markdown",
   "metadata": {},
   "source": [
    "# 2. Move labeled image to coresponding folder"
   ]
  },
  {
   "cell_type": "code",
   "execution_count": 15,
   "metadata": {},
   "outputs": [
    {
     "name": "stdout",
     "output_type": "stream",
     "text": [
      "Copying 0 botolkaca image(s) and xml file(s)...\n",
      "Copying 0 botolplastik image(s) and xml file(s)...\n",
      "Copying 0 kaleng image(s) and xml file(s)...\n",
      "Copying 1 kardus image(s) and xml file(s)...\n",
      "Copying 1 karet image(s) and xml file(s)...\n",
      "Copying 0 kertas image(s) and xml file(s)...\n",
      "Copying 0 plastik image(s) and xml file(s)...\n",
      "Copying 0 sedotan image(s) and xml file(s)...\n"
     ]
    }
   ],
   "source": [
    "import os\n",
    "import shutil\n",
    "\n",
    "UNLABELED_PATH = os.path.join(\n",
    "                                'Tensorflow',\n",
    "                                'workspace',\n",
    "                                'images',\n",
    "                                'unlabeled'\n",
    "                                                )\n",
    "LABELED_PATH = os.path.join(\n",
    "                                'Tensorflow',\n",
    "                                'workspace',\n",
    "                                'images',\n",
    "                                'collectedimages'\n",
    "                                                )\n",
    "\n",
    "folders = [folder for folder in os.listdir(UNLABELED_PATH)]\n",
    "\n",
    "# Create list for labeled images\n",
    "for folder in folders:\n",
    "    unlabeled_folder_path = os.path.join(UNLABELED_PATH, folder)\n",
    "    img_with_xml = [file for file in os.listdir(unlabeled_folder_path) if file.endswith('xml')]\n",
    "\n",
    "    print(\"Copying {} {} image(s) and xml file(s)...\".format(len(img_with_xml), folder))\n",
    "\n",
    "    # Copy labeled image\n",
    "    for file in img_with_xml:\n",
    "        jpg_path = os.path.join(unlabeled_folder_path, file)[:-3] + 'jpg'\n",
    "        xml_path = os.path.join(unlabeled_folder_path, file)\n",
    "        shutil.move(jpg_path, os.path.join(LABELED_PATH, folder, file[:-3] + 'jpg'))\n",
    "        shutil.move(xml_path, os.path.join(LABELED_PATH, folder, file))"
   ]
  }
 ],
 "metadata": {
  "interpreter": {
   "hash": "f55f91a51e0f0e381fa205f31377c70e0ffe7773aa4cef5a8c230d8bd28c39f9"
  },
  "kernelspec": {
   "display_name": "Python 3.8.8 ('tfod')",
   "language": "python",
   "name": "python3"
  },
  "language_info": {
   "codemirror_mode": {
    "name": "ipython",
    "version": 3
   },
   "file_extension": ".py",
   "mimetype": "text/x-python",
   "name": "python",
   "nbconvert_exporter": "python",
   "pygments_lexer": "ipython3",
   "version": "3.8.8"
  }
 },
 "nbformat": 4,
 "nbformat_minor": 2
}
