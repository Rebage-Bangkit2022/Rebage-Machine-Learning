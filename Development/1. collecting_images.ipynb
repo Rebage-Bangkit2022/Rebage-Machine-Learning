{
 "cells": [
  {
   "cell_type": "markdown",
   "metadata": {},
   "source": [
    "# 1. Import Dependencies"
   ]
  },
  {
   "cell_type": "code",
   "execution_count": 1,
   "metadata": {},
   "outputs": [],
   "source": [
    "import cv2 \n",
    "import uuid\n",
    "import os\n",
    "import time"
   ]
  },
  {
   "cell_type": "markdown",
   "metadata": {},
   "source": [
    "# 2. Define Images Label"
   ]
  },
  {
   "cell_type": "code",
   "execution_count": 2,
   "metadata": {},
   "outputs": [],
   "source": [
    "labels = ['botolplastik', 'gelaskaca', 'kaleng', 'karton', 'kertas']"
   ]
  },
  {
   "cell_type": "markdown",
   "metadata": {},
   "source": [
    "# 3. Setup Folders "
   ]
  },
  {
   "cell_type": "code",
   "execution_count": 3,
   "metadata": {},
   "outputs": [],
   "source": [
    "IMAGES_PATH = os.path.join('Tensorflow', 'workspace', 'images', 'collectedimages')"
   ]
  },
  {
   "cell_type": "code",
   "execution_count": 5,
   "metadata": {},
   "outputs": [],
   "source": [
    "if not os.path.exists(IMAGES_PATH):\n",
    "    !mkdir {IMAGES_PATH}\n",
    "        \n",
    "for label in labels:\n",
    "    path = os.path.join(IMAGES_PATH, label)\n",
    "    if not os.path.exists(path):\n",
    "        os.mkdir(path)"
   ]
  },
  {
   "cell_type": "markdown",
   "metadata": {},
   "source": [
    "# 4. Image Labelling"
   ]
  },
  {
   "cell_type": "code",
   "execution_count": 6,
   "metadata": {},
   "outputs": [
    {
     "name": "stdout",
     "output_type": "stream",
     "text": [
      "Requirement already satisfied: pyqt5 in c:\\users\\user\\appdata\\local\\programs\\python\\python39\\lib\\site-packages (5.15.6)"
     ]
    },
    {
     "name": "stderr",
     "output_type": "stream",
     "text": [
      "WARNING: Ignoring invalid distribution -rotobuf (c:\\users\\user\\appdata\\local\\programs\\python\\python39\\lib\\site-packages)\n",
      "WARNING: Ignoring invalid distribution -illow (c:\\users\\user\\appdata\\local\\programs\\python\\python39\\lib\\site-packages)\n"
     ]
    },
    {
     "name": "stdout",
     "output_type": "stream",
     "text": [
      "\n",
      "Requirement already satisfied: lxml in c:\\users\\user\\appdata\\local\\programs\\python\\python39\\lib\\site-packages (4.8.0)\n",
      "Requirement already satisfied: PyQt5-sip<13,>=12.8 in c:\\users\\user\\appdata\\local\\programs\\python\\python39\\lib\\site-packages (from pyqt5) (12.10.1)\n",
      "Requirement already satisfied: PyQt5-Qt5>=5.15.2 in c:\\users\\user\\appdata\\local\\programs\\python\\python39\\lib\\site-packages (from pyqt5) (5.15.2)\n"
     ]
    },
    {
     "name": "stderr",
     "output_type": "stream",
     "text": [
      "WARNING: Ignoring invalid distribution -rotobuf (c:\\users\\user\\appdata\\local\\programs\\python\\python39\\lib\\site-packages)\n",
      "WARNING: Ignoring invalid distribution -illow (c:\\users\\user\\appdata\\local\\programs\\python\\python39\\lib\\site-packages)\n",
      "WARNING: Ignoring invalid distribution -rotobuf (c:\\users\\user\\appdata\\local\\programs\\python\\python39\\lib\\site-packages)\n",
      "WARNING: Ignoring invalid distribution -illow (c:\\users\\user\\appdata\\local\\programs\\python\\python39\\lib\\site-packages)\n",
      "WARNING: Ignoring invalid distribution -rotobuf (c:\\users\\user\\appdata\\local\\programs\\python\\python39\\lib\\site-packages)\n",
      "WARNING: Ignoring invalid distribution -illow (c:\\users\\user\\appdata\\local\\programs\\python\\python39\\lib\\site-packages)\n",
      "WARNING: Ignoring invalid distribution -rotobuf (c:\\users\\user\\appdata\\local\\programs\\python\\python39\\lib\\site-packages)\n",
      "WARNING: Ignoring invalid distribution -illow (c:\\users\\user\\appdata\\local\\programs\\python\\python39\\lib\\site-packages)\n",
      "WARNING: Ignoring invalid distribution -rotobuf (c:\\users\\user\\appdata\\local\\programs\\python\\python39\\lib\\site-packages)\n",
      "WARNING: Ignoring invalid distribution -illow (c:\\users\\user\\appdata\\local\\programs\\python\\python39\\lib\\site-packages)\n",
      "WARNING: You are using pip version 22.0.4; however, version 22.1 is available.\n",
      "You should consider upgrading via the 'C:\\users\\user\\appdata\\local\\programs\\python\\python39\\python.exe -m pip install --upgrade pip' command.\n"
     ]
    }
   ],
   "source": [
    "!pip install --upgrade pyqt5 lxml"
   ]
  },
  {
   "cell_type": "code",
   "execution_count": 3,
   "metadata": {},
   "outputs": [],
   "source": [
    "LABELIMG_PATH = os.path.join('Tensorflow', 'labelimg')"
   ]
  },
  {
   "cell_type": "code",
   "execution_count": 4,
   "metadata": {},
   "outputs": [],
   "source": [
    "if not os.path.exists(LABELIMG_PATH):\n",
    "    !mkdir {LABELIMG_PATH}\n",
    "    !git clone https://github.com/tzutalin/labelImg {LABELIMG_PATH}"
   ]
  },
  {
   "cell_type": "code",
   "execution_count": 5,
   "metadata": {},
   "outputs": [],
   "source": [
    "if os.name == 'posix':\n",
    "    !make qt5py3\n",
    "if os.name =='nt':\n",
    "    !cd {LABELIMG_PATH} && pyrcc5 -o libs/resources.py resources.qrc"
   ]
  },
  {
   "cell_type": "code",
   "execution_count": null,
   "metadata": {},
   "outputs": [],
   "source": [
    "# Nanti muncul python gui, pakai python gui itu buat extract fitur\n",
    "!cd {LABELIMG_PATH} && python labelImg.py"
   ]
  },
  {
   "cell_type": "markdown",
   "metadata": {},
   "source": [
    "# 5. Move them into a Training and Testing Partition"
   ]
  },
  {
   "cell_type": "code",
   "execution_count": 22,
   "metadata": {},
   "outputs": [],
   "source": [
    "TRAIN_PATH = os.path.join('Tensorflow', 'workspace', 'images', 'train')\n",
    "TEST_PATH = os.path.join('Tensorflow', 'workspace', 'images', 'test')\n",
    "ARCHIVE_PATH = os.path.join('Tensorflow', 'workspace', 'images', 'archive.tar.gz')"
   ]
  },
  {
   "cell_type": "code",
   "execution_count": 23,
   "metadata": {},
   "outputs": [],
   "source": [
    "if not os.path.exists(TRAIN_PATH):\n",
    "    os.mkdir(TRAIN_PATH)\n",
    "\n",
    "if not os.path.exists(TEST_PATH):\n",
    "    os.mkdir(TEST_PATH)"
   ]
  },
  {
   "cell_type": "code",
   "execution_count": 24,
   "metadata": {},
   "outputs": [
    {
     "name": "stdout",
     "output_type": "stream",
     "text": [
      "botolplastik 50\n",
      "gelaskaca 50\n",
      "kaleng 50\n",
      "karton 50\n",
      "kertas 50\n"
     ]
    }
   ],
   "source": [
    "import numpy as np \n",
    "import re\n",
    "import shutil\n",
    "\n",
    "np.random.seed(101)\n",
    "# moving random data from classes folder to test and train\n",
    "test_size = .3\n",
    "pattern1 = r'(.*)\\.[jpg|xml]'\n",
    "\n",
    "for label_dir in os.listdir(IMAGES_PATH):\n",
    "    label_dir_path = os.path.join(IMAGES_PATH, label_dir)\n",
    "    num_files = len( os.listdir( label_dir_path ) )\n",
    "    print(label_dir, num_files)\n",
    "    \n",
    "    if num_files == 0:\n",
    "        print(f'{label_dir} is moved, continue')\n",
    "        continue\n",
    "    \n",
    "    # Karena ada 2 ekstensi file untuk 1 foto (jpg dan xml) \n",
    "    # maka diambil set nya\n",
    "    data_name_temp = []\n",
    "    for data in os.listdir(label_dir_path):\n",
    "        searched = re.search(pattern1, data)\n",
    "        data_name_temp.append(searched.groups()[0])\n",
    "    \n",
    "    data_name_temp = np.array(list(set(data_name_temp)), dtype=np.str)\n",
    "    \n",
    "    # untuk setiap data akan diacak \n",
    "    np.random.shuffle(data_name_temp)\n",
    "    \n",
    "    # Todo: Melakukan pengambilan data \n",
    "    break_point = int(len(data_name_temp) * test_size)\n",
    "    \n",
    "    test_candidate = data_name_temp[:break_point]\n",
    "    \n",
    "    # untuk setiap kandidat data test akan dipindahkan ke folder test \n",
    "    for data_test in test_candidate:\n",
    "        # melakukan pencarian tiap data test pada direktori label dir path\n",
    "        pattern2 = r'(' + data_test + r'\\.[xmljpg]*)'\n",
    "        \n",
    "        for train_test_data in os.listdir(label_dir_path):\n",
    "            searched = re.search(pattern2, train_test_data)\n",
    "            # kalau bukan none maka test\n",
    "            if searched is not None:\n",
    "                test_data_use = searched.groups()[0]\n",
    "                source_path = os.path.join(label_dir_path, test_data_use)\n",
    "                # print(\"Test : \", source_path)\n",
    "                shutil.copy(source_path, TEST_PATH)\n",
    "            # jika none maka train\n",
    "            else:\n",
    "                source_path = os.path.join(label_dir_path, train_test_data)\n",
    "                # print(\"Train : \", source_path)\n",
    "                shutil.copy(source_path, TRAIN_PATH)\n",
    "    # break"
   ]
  },
  {
   "cell_type": "markdown",
   "metadata": {},
   "source": [
    "Cek ukuran test dan train"
   ]
  },
  {
   "cell_type": "code",
   "execution_count": 25,
   "metadata": {},
   "outputs": [
    {
     "name": "stdout",
     "output_type": "stream",
     "text": [
      "Train data : 250 data\n",
      "Test data : 70 data\n"
     ]
    }
   ],
   "source": [
    "print(f\"Train data : {len(os.listdir(TRAIN_PATH))} data\")\n",
    "print(f\"Test data : {len(os.listdir(TEST_PATH))} data\")"
   ]
  },
  {
   "cell_type": "markdown",
   "metadata": {},
   "source": [
    "# (OPSIONAL) 7. File tar jika mau menyimpan data dalam bentuk TAR dan diakses dari Google Collab"
   ]
  },
  {
   "cell_type": "code",
   "execution_count": 26,
   "metadata": {},
   "outputs": [],
   "source": [
    "import tarfile\n",
    "\n",
    "def make_tarfile(output_filename, source_dir):\n",
    "    with tarfile.open(output_filename, \"w:gz\") as tar:\n",
    "        for source in source_dir:\n",
    "            tar.add(source, arcname=os.path.basename(source))"
   ]
  },
  {
   "cell_type": "code",
   "execution_count": 27,
   "metadata": {},
   "outputs": [],
   "source": [
    "make_tarfile(ARCHIVE_PATH, [TRAIN_PATH, TEST_PATH])"
   ]
  }
 ],
 "metadata": {
  "interpreter": {
   "hash": "82ed002fa2d4956f5c6aec99bcefe0f73a9f79882f3c9e2319b14958a5896ac5"
  },
  "kernelspec": {
   "display_name": "Python 3.9.6 64-bit",
   "language": "python",
   "name": "python3"
  },
  "language_info": {
   "codemirror_mode": {
    "name": "ipython",
    "version": 3
   },
   "file_extension": ".py",
   "mimetype": "text/x-python",
   "name": "python",
   "nbconvert_exporter": "python",
   "pygments_lexer": "ipython3",
   "version": "3.9.6"
  }
 },
 "nbformat": 4,
 "nbformat_minor": 2
}
