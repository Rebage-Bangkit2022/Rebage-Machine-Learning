{
 "cells": [
  {
   "cell_type": "markdown",
   "metadata": {},
   "source": [
    "# 1. Import Dependencies"
   ]
  },
  {
   "cell_type": "code",
   "execution_count": 1,
   "metadata": {},
   "outputs": [],
   "source": [
    "import cv2 \n",
    "import uuid\n",
    "import re\n",
    "import os\n",
    "import time"
   ]
  },
  {
   "cell_type": "markdown",
   "metadata": {},
   "source": [
    "# 2. Define Images Label"
   ]
  },
  {
   "cell_type": "code",
   "execution_count": 2,
   "metadata": {},
   "outputs": [
    {
     "data": {
      "text/plain": [
       "['botolkaca',\n",
       " 'botolplastik',\n",
       " 'kaleng',\n",
       " 'kardus',\n",
       " 'karet',\n",
       " 'kertas',\n",
       " 'plastik',\n",
       " 'sedotan']"
      ]
     },
     "execution_count": 2,
     "metadata": {},
     "output_type": "execute_result"
    }
   ],
   "source": [
    "COLLECTED_IMG_PATH = r'.\\Tensorflow\\workspace\\images\\collectedimages'\n",
    "\n",
    "labels = os.listdir(COLLECTED_IMG_PATH)\n",
    "labels"
   ]
  },
  {
   "cell_type": "markdown",
   "metadata": {},
   "source": [
    "# 3. Setup Folders "
   ]
  },
  {
   "cell_type": "code",
   "execution_count": 3,
   "metadata": {},
   "outputs": [],
   "source": [
    "IMAGES_PATH = os.path.join('Tensorflow', 'workspace', 'images', 'collectedimages')"
   ]
  },
  {
   "cell_type": "code",
   "execution_count": 4,
   "metadata": {},
   "outputs": [],
   "source": [
    "if not os.path.exists(IMAGES_PATH):\n",
    "    !mkdir {IMAGES_PATH}\n",
    "    \n",
    "for label in labels:\n",
    "    path = os.path.join(IMAGES_PATH, label)\n",
    "    if not os.path.exists(path):\n",
    "        os.mkdir(path)"
   ]
  },
  {
   "cell_type": "markdown",
   "metadata": {},
   "source": [
    "# 4. Image Labelling"
   ]
  },
  {
   "cell_type": "code",
   "execution_count": 5,
   "metadata": {},
   "outputs": [],
   "source": [
    "# !pip install --upgrade pyqt5 lxml"
   ]
  },
  {
   "cell_type": "code",
   "execution_count": 6,
   "metadata": {},
   "outputs": [],
   "source": [
    "LABELIMG_PATH = os.path.join('Tensorflow', 'labelimg')"
   ]
  },
  {
   "cell_type": "code",
   "execution_count": 7,
   "metadata": {},
   "outputs": [],
   "source": [
    "if not os.path.exists(LABELIMG_PATH):\n",
    "    !mkdir {LABELIMG_PATH}\n",
    "    !git clone https://github.com/tzutalin/labelImg {LABELIMG_PATH}"
   ]
  },
  {
   "cell_type": "code",
   "execution_count": 8,
   "metadata": {},
   "outputs": [],
   "source": [
    "if os.name == 'posix':\n",
    "    !make qt5py3\n",
    "if os.name =='nt':\n",
    "    !cd {LABELIMG_PATH} && pyrcc5 -o libs/resources.py resources.qrc"
   ]
  },
  {
   "cell_type": "code",
   "execution_count": 9,
   "metadata": {},
   "outputs": [
    {
     "name": "stdout",
     "output_type": "stream",
     "text": [
      "Image:C:\\Users\\User\\Documents\\VisualStudioCode\\Rebage-Machine-Learning\\Development\\Tensorflow\\workspace\\images\\unlabeled\\botolplastik\\640.jpg -> Annotation:C:/Users/User/Documents/VisualStudioCode/Rebage-Machine-Learning/Development/Tensorflow/workspace/images/unlabeled/botolplastik/640.xml\n",
      "Image:C:\\Users\\User\\Documents\\VisualStudioCode\\Rebage-Machine-Learning\\Development\\Tensorflow\\workspace\\images\\unlabeled\\botolplastik\\642.jpg -> Annotation:C:/Users/User/Documents/VisualStudioCode/Rebage-Machine-Learning/Development/Tensorflow/workspace/images/unlabeled/botolplastik/642.xml\n",
      "Image:C:\\Users\\User\\Documents\\VisualStudioCode\\Rebage-Machine-Learning\\Development\\Tensorflow\\workspace\\images\\unlabeled\\botolplastik\\664_corrected.jpg -> Annotation:C:/Users/User/Documents/VisualStudioCode/Rebage-Machine-Learning/Development/Tensorflow/workspace/images/unlabeled/botolplastik/664_corrected.xml\n",
      "Image:C:\\Users\\User\\Documents\\VisualStudioCode\\Rebage-Machine-Learning\\Development\\Tensorflow\\workspace\\images\\unlabeled\\botolplastik\\991.jpg -> Annotation:C:/Users/User/Documents/VisualStudioCode/Rebage-Machine-Learning/Development/Tensorflow/workspace/images/unlabeled/botolplastik/991.xml\n",
      "Image:C:\\Users\\User\\Documents\\VisualStudioCode\\Rebage-Machine-Learning\\Development\\Tensorflow\\workspace\\images\\unlabeled\\botolplastik\\1084.jpg -> Annotation:C:/Users/User/Documents/VisualStudioCode/Rebage-Machine-Learning/Development/Tensorflow/workspace/images/unlabeled/botolplastik/1084.xml\n",
      "Image:C:\\Users\\User\\Documents\\VisualStudioCode\\Rebage-Machine-Learning\\Development\\Tensorflow\\workspace\\images\\unlabeled\\botolplastik\\1410.jpg -> Annotation:C:/Users/User/Documents/VisualStudioCode/Rebage-Machine-Learning/Development/Tensorflow/workspace/images/unlabeled/botolplastik/1410.xml\n",
      "Image:C:\\Users\\User\\Documents\\VisualStudioCode\\Rebage-Machine-Learning\\Development\\Tensorflow\\workspace\\images\\unlabeled\\botolplastik\\1411.jpg -> Annotation:C:/Users/User/Documents/VisualStudioCode/Rebage-Machine-Learning/Development/Tensorflow/workspace/images/unlabeled/botolplastik/1411.xml\n",
      "Image:C:\\Users\\User\\Documents\\VisualStudioCode\\Rebage-Machine-Learning\\Development\\Tensorflow\\workspace\\images\\unlabeled\\botolplastik\\1512.jpg -> Annotation:C:/Users/User/Documents/VisualStudioCode/Rebage-Machine-Learning/Development/Tensorflow/workspace/images/unlabeled/botolplastik/1512.xml\n",
      "Image:C:\\Users\\User\\Documents\\VisualStudioCode\\Rebage-Machine-Learning\\Development\\Tensorflow\\workspace\\images\\unlabeled\\botolplastik\\1516.jpg -> Annotation:C:/Users/User/Documents/VisualStudioCode/Rebage-Machine-Learning/Development/Tensorflow/workspace/images/unlabeled/botolplastik/1516.xml\n",
      "Image:C:\\Users\\User\\Documents\\VisualStudioCode\\Rebage-Machine-Learning\\Development\\Tensorflow\\workspace\\images\\unlabeled\\botolplastik\\1679.jpg -> Annotation:C:/Users/User/Documents/VisualStudioCode/Rebage-Machine-Learning/Development/Tensorflow/workspace/images/unlabeled/botolplastik/1679.xml\n",
      "Image:C:\\Users\\User\\Documents\\VisualStudioCode\\Rebage-Machine-Learning\\Development\\Tensorflow\\workspace\\images\\unlabeled\\botolplastik\\1681.jpg -> Annotation:C:/Users/User/Documents/VisualStudioCode/Rebage-Machine-Learning/Development/Tensorflow/workspace/images/unlabeled/botolplastik/1681.xml\n",
      "Image:C:\\Users\\User\\Documents\\VisualStudioCode\\Rebage-Machine-Learning\\Development\\Tensorflow\\workspace\\images\\unlabeled\\botolplastik\\1902.jpg -> Annotation:C:/Users/User/Documents/VisualStudioCode/Rebage-Machine-Learning/Development/Tensorflow/workspace/images/unlabeled/botolplastik/1902.xml\n",
      "Image:C:\\Users\\User\\Documents\\VisualStudioCode\\Rebage-Machine-Learning\\Development\\Tensorflow\\workspace\\images\\unlabeled\\botolplastik\\1904.jpg -> Annotation:C:/Users/User/Documents/VisualStudioCode/Rebage-Machine-Learning/Development/Tensorflow/workspace/images/unlabeled/botolplastik/1904.xml\n",
      "Image:C:\\Users\\User\\Documents\\VisualStudioCode\\Rebage-Machine-Learning\\Development\\Tensorflow\\workspace\\images\\unlabeled\\botolplastik\\2020-02-04 05_01_13.344895.jpg -> Annotation:C:/Users/User/Documents/VisualStudioCode/Rebage-Machine-Learning/Development/Tensorflow/workspace/images/unlabeled/botolplastik/2020-02-04 05_01_13.344895.xml\n",
      "Image:C:\\Users\\User\\Documents\\VisualStudioCode\\Rebage-Machine-Learning\\Development\\Tensorflow\\workspace\\images\\unlabeled\\botolplastik\\2020-02-04 05_14_04.287920.jpg -> Annotation:C:/Users/User/Documents/VisualStudioCode/Rebage-Machine-Learning/Development/Tensorflow/workspace/images/unlabeled/botolplastik/2020-02-04 05_14_04.287920.xml\n",
      "Image:C:\\Users\\User\\Documents\\VisualStudioCode\\Rebage-Machine-Learning\\Development\\Tensorflow\\workspace\\images\\unlabeled\\botolplastik\\2020-02-04 05_16_45.614994(1).jpg -> Annotation:C:/Users/User/Documents/VisualStudioCode/Rebage-Machine-Learning/Development/Tensorflow/workspace/images/unlabeled/botolplastik/2020-02-04 05_16_45.614994(1).xml\n",
      "Image:C:\\Users\\User\\Documents\\VisualStudioCode\\Rebage-Machine-Learning\\Development\\Tensorflow\\workspace\\images\\unlabeled\\botolplastik\\2020-02-04 05_17_41.445032(1)(1).jpg -> Annotation:C:/Users/User/Documents/VisualStudioCode/Rebage-Machine-Learning/Development/Tensorflow/workspace/images/unlabeled/botolplastik/2020-02-04 05_17_41.445032(1)(1).xml\n",
      "Image:C:\\Users\\User\\Documents\\VisualStudioCode\\Rebage-Machine-Learning\\Development\\Tensorflow\\workspace\\images\\unlabeled\\botolplastik\\2020-02-04 05_17_56.430812.jpg -> Annotation:C:/Users/User/Documents/VisualStudioCode/Rebage-Machine-Learning/Development/Tensorflow/workspace/images/unlabeled/botolplastik/2020-02-04 05_17_56.430812.xml\n",
      "Image:C:\\Users\\User\\Documents\\VisualStudioCode\\Rebage-Machine-Learning\\Development\\Tensorflow\\workspace\\images\\unlabeled\\botolplastik\\2020-02-04 05_18_36.343672.jpg -> Annotation:C:/Users/User/Documents/VisualStudioCode/Rebage-Machine-Learning/Development/Tensorflow/workspace/images/unlabeled/botolplastik/2020-02-04 05_18_36.343672.xml\n",
      "Image:C:\\Users\\User\\Documents\\VisualStudioCode\\Rebage-Machine-Learning\\Development\\Tensorflow\\workspace\\images\\unlabeled\\botolplastik\\2020-02-04 05_19_14.290297.jpg -> Annotation:C:/Users/User/Documents/VisualStudioCode/Rebage-Machine-Learning/Development/Tensorflow/workspace/images/unlabeled/botolplastik/2020-02-04 05_19_14.290297.xml\n",
      "Image:C:\\Users\\User\\Documents\\VisualStudioCode\\Rebage-Machine-Learning\\Development\\Tensorflow\\workspace\\images\\unlabeled\\botolplastik\\2020-02-04 05_19_41.594103.jpg -> Annotation:C:/Users/User/Documents/VisualStudioCode/Rebage-Machine-Learning/Development/Tensorflow/workspace/images/unlabeled/botolplastik/2020-02-04 05_19_41.594103.xml\n",
      "Image:C:\\Users\\User\\Documents\\VisualStudioCode\\Rebage-Machine-Learning\\Development\\Tensorflow\\workspace\\images\\unlabeled\\botolplastik\\2020-02-04 05_20_00.599622.jpg -> Annotation:C:/Users/User/Documents/VisualStudioCode/Rebage-Machine-Learning/Development/Tensorflow/workspace/images/unlabeled/botolplastik/2020-02-04 05_20_00.599622.xml\n",
      "Image:C:\\Users\\User\\Documents\\VisualStudioCode\\Rebage-Machine-Learning\\Development\\Tensorflow\\workspace\\images\\unlabeled\\botolplastik\\2020-02-04 05_20_13.498340.jpg -> Annotation:C:/Users/User/Documents/VisualStudioCode/Rebage-Machine-Learning/Development/Tensorflow/workspace/images/unlabeled/botolplastik/2020-02-04 05_20_13.498340.xml\n",
      "Image:C:\\Users\\User\\Documents\\VisualStudioCode\\Rebage-Machine-Learning\\Development\\Tensorflow\\workspace\\images\\unlabeled\\botolplastik\\2020-02-04 05_21_15.867872.jpg -> Annotation:C:/Users/User/Documents/VisualStudioCode/Rebage-Machine-Learning/Development/Tensorflow/workspace/images/unlabeled/botolplastik/2020-02-04 05_21_15.867872.xml\n"
     ]
    }
   ],
   "source": [
    "# Nanti muncul python gui, pakai python gui itu buat extract fitur\n",
    "!cd {LABELIMG_PATH} && python labelImg.py"
   ]
  },
  {
   "cell_type": "markdown",
   "metadata": {},
   "source": [
    "# 5. Copy them into a Training and Testing Partition"
   ]
  },
  {
   "cell_type": "markdown",
   "metadata": {},
   "source": [
    "First delete the contents of the train and test directories!!"
   ]
  },
  {
   "cell_type": "code",
   "execution_count": 11,
   "metadata": {},
   "outputs": [],
   "source": [
    "TRAIN_PATH = os.path.join('Tensorflow', 'workspace', 'images', 'train')\n",
    "TEST_PATH = os.path.join('Tensorflow', 'workspace', 'images', 'test')\n",
    "\n",
    "if not os.path.exists(TRAIN_PATH):\n",
    "    os.mkdir(TRAIN_PATH)\n",
    "\n",
    "if not os.path.exists(TEST_PATH):\n",
    "    os.mkdir(TEST_PATH)"
   ]
  },
  {
   "cell_type": "markdown",
   "metadata": {},
   "source": [
    "# 6 Splitting Data to Train and Test"
   ]
  },
  {
   "cell_type": "code",
   "execution_count": null,
   "metadata": {},
   "outputs": [],
   "source": [
    "# Shuffle and copy collected image to train and test dir\n",
    "import random\n",
    "import shutil\n",
    "\n",
    "TRAIN_TO_TOTAL_RATIO = 0.7\n",
    "RANDOM_SEED = 101\n",
    "\n",
    "random.seed(RANDOM_SEED)\n",
    "\n",
    "#Creating list for train and test\n",
    "for file_folder_name in labels:\n",
    "    xml_list = []\n",
    "    file_for_test = []\n",
    "    file_dir = os.path.join(IMAGES_PATH, file_folder_name)\n",
    "    xml_list = [file for file in os.listdir(file_dir) if file.endswith('xml')]\n",
    "    train_num = int((TRAIN_TO_TOTAL_RATIO*len(xml_list))//1)\n",
    "    file_for_training = list(random.sample(xml_list, train_num))\n",
    "    file_for_test = [file for file in xml_list if file not in file_for_training]\n",
    "    \n",
    "    #copy file to training\n",
    "    for file in file_for_training:\n",
    "        file_xml = os.path.join(file_dir, file)\n",
    "        file_jpg = os.path.join(file_dir, file[:-3]) + 'jpg'\n",
    "        jpg_target = os.path.join(TRAIN_PATH, file[:-3]) + 'jpg'\n",
    "        xml_target = os.path.join(TRAIN_PATH, file)\n",
    "        shutil.copyfile(file_xml, xml_target)\n",
    "        shutil.copyfile(file_jpg, jpg_target)\n",
    "    \n",
    "    #copy file to test\n",
    "    for file in file_for_test:\n",
    "        file_xml = os.path.join(file_dir, file)\n",
    "        file_jpg = os.path.join(file_dir, file[:-3]) + 'jpg'\n",
    "        jpg_target = os.path.join(TEST_PATH, file[:-3]) + 'jpg'\n",
    "        xml_target = os.path.join(TEST_PATH, file)\n",
    "        shutil.copyfile(file_xml, xml_target)\n",
    "        shutil.copyfile(file_jpg, jpg_target)"
   ]
  },
  {
   "cell_type": "markdown",
   "metadata": {},
   "source": [
    "Cek ukuran test dan train"
   ]
  },
  {
   "cell_type": "code",
   "execution_count": 12,
   "metadata": {},
   "outputs": [
    {
     "name": "stdout",
     "output_type": "stream",
     "text": [
      "Train data : 5984 data\n",
      "Test data : 2576 data\n"
     ]
    }
   ],
   "source": [
    "print(f\"Train data : {len(os.listdir(TRAIN_PATH))} data\")\n",
    "print(f\"Test data : {len(os.listdir(TEST_PATH))} data\")"
   ]
  }
 ],
 "metadata": {
  "interpreter": {
   "hash": "f08154012ddadd8e950e6e9e035c7a7b32c136e7647e9b7c77e02eb723a8bedb"
  },
  "kernelspec": {
   "display_name": "Python 3.9.12 ('base')",
   "language": "python",
   "name": "python3"
  },
  "language_info": {
   "codemirror_mode": {
    "name": "ipython",
    "version": 3
   },
   "file_extension": ".py",
   "mimetype": "text/x-python",
   "name": "python",
   "nbconvert_exporter": "python",
   "pygments_lexer": "ipython3",
   "version": "3.9.12"
  }
 },
 "nbformat": 4,
 "nbformat_minor": 2
}
