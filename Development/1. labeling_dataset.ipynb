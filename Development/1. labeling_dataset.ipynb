{
 "cells": [
  {
   "cell_type": "code",
   "execution_count": 1,
   "metadata": {},
   "outputs": [],
   "source": [
    "import os"
   ]
  },
  {
   "cell_type": "markdown",
   "metadata": {},
   "source": [
    "## Create directory for each label"
   ]
  },
  {
   "cell_type": "code",
   "execution_count": 2,
   "metadata": {},
   "outputs": [],
   "source": [
    "COLLECTED_IMG_PATH = r'.\\Tensorflow\\workspace\\images\\collectedimages'\n",
    "IMAGES_PATH = os.path.join('Tensorflow', 'workspace', 'images', 'collectedimages')\n",
    "\n",
    "labels = os.listdir(COLLECTED_IMG_PATH)\n",
    "\n",
    "if not os.path.exists(IMAGES_PATH):\n",
    "    os.mkdir(IMAGES_PATH)\n",
    "    \n",
    "for label in labels:\n",
    "    path = os.path.join(IMAGES_PATH, label)\n",
    "    if not os.path.exists(path):\n",
    "        os.mkdir(path)"
   ]
  },
  {
   "cell_type": "markdown",
   "metadata": {},
   "source": [
    "## Manual Labeling"
   ]
  },
  {
   "cell_type": "code",
   "execution_count": 4,
   "metadata": {},
   "outputs": [],
   "source": [
    "# !pip install --upgrade pyqt5 lxml"
   ]
  },
  {
   "cell_type": "code",
   "execution_count": 5,
   "metadata": {},
   "outputs": [],
   "source": [
    "LABELIMG_PATH = os.path.join('Tensorflow', 'labelimg')\n",
    "\n",
    "if not os.path.exists(LABELIMG_PATH):\n",
    "    !mkdir {LABELIMG_PATH}\n",
    "    !git clone https://github.com/tzutalin/labelImg {LABELIMG_PATH}"
   ]
  },
  {
   "cell_type": "code",
   "execution_count": 6,
   "metadata": {},
   "outputs": [],
   "source": [
    "!cd {LABELIMG_PATH} && pyrcc5 -o libs/resources.py resources.qrc"
   ]
  },
  {
   "cell_type": "code",
   "execution_count": null,
   "metadata": {},
   "outputs": [],
   "source": [
    "# Nanti muncul python gui, pakai python gui itu buat extract fitur\n",
    "!cd {LABELIMG_PATH} && python labelImg.py"
   ]
  },
  {
   "cell_type": "markdown",
   "metadata": {},
   "source": [
    "# Splitting Data to Train and Test"
   ]
  },
  {
   "cell_type": "code",
   "execution_count": 3,
   "metadata": {},
   "outputs": [],
   "source": [
    "TRAIN_PATH = os.path.join('Tensorflow', 'workspace', 'images', 'train')\n",
    "TEST_PATH = os.path.join('Tensorflow', 'workspace', 'images', 'test')\n",
    "\n",
    "if not os.path.exists(TRAIN_PATH):\n",
    "    os.mkdir(TRAIN_PATH)\n",
    "\n",
    "if not os.path.exists(TEST_PATH):\n",
    "    os.mkdir(TEST_PATH)"
   ]
  },
  {
   "cell_type": "code",
   "execution_count": 8,
   "metadata": {},
   "outputs": [
    {
     "name": "stdout",
     "output_type": "stream",
     "text": [
      "botolkaca\t | Train : 765\t| Test : 135\t| Total botolkaca\t : 900\n",
      "botolplastik\t | Train : 749\t| Test : 132\t| Total botolplastik\t : 881\n",
      "kaleng\t\t | Train : 915\t| Test : 162\t| Total kaleng\t\t : 1077\n",
      "kardus\t\t | Train : 586\t| Test : 104\t| Total kardus\t\t : 690\n",
      "karet\t\t | Train : 499\t| Test : 88\t| Total karet\t\t : 587\n",
      "kertas\t\t | Train : 620\t| Test : 109\t| Total kertas\t\t : 729\n",
      "plastik\t\t | Train : 518\t| Test : 92\t| Total plastik\t\t : 610\n",
      "sedotan\t\t | Train : 969\t| Test : 171\t| Total sedotan\t\t : 1140\n",
      "Total data : 6614\n"
     ]
    }
   ],
   "source": [
    "# Shuffle and copy collected image to train and test dir\n",
    "import random\n",
    "import shutil\n",
    "import numpy as np\n",
    "\n",
    "TRAIN_TO_TOTAL_RATIO = 0.85\n",
    "RANDOM_SEED = 1\n",
    "\n",
    "random.seed(RANDOM_SEED)\n",
    "np.random.seed(RANDOM_SEED)\n",
    "\n",
    "#Creating list for train and test\n",
    "total = 0\n",
    "for file_folder_name in labels:\n",
    "    xml_list = []\n",
    "    file_for_test = []\n",
    "    file_dir = os.path.join(IMAGES_PATH, file_folder_name)\n",
    "    xml_list = np.array([file for file in os.listdir(file_dir) if file.endswith('xml')])\n",
    "    train_num = int(round(TRAIN_TO_TOTAL_RATIO*len(xml_list)))\n",
    "    # file_for_training = list(random.sample(xml_list, train_num))\n",
    "    np.random.shuffle(xml_list)\n",
    "    file_for_training = xml_list[:train_num]\n",
    "    file_for_test = [file for file in xml_list if file not in file_for_training]\n",
    "    \n",
    "    # Verbose\n",
    "    name = file_folder_name + '\\t' if len(file_folder_name) > 7 else file_folder_name + '\\t\\t'\n",
    "    print(f\"{name} | Train : {len(file_for_training)}\\t| Test : {len(file_for_test)}\\t| Total {name} : {len(file_for_training) + len(file_for_test)}\")\n",
    "    total += (len(file_for_training) + len(file_for_test))\n",
    "    \n",
    "    #copy file to training\n",
    "    for file in file_for_training:\n",
    "        file_xml = os.path.join(file_dir, file)\n",
    "        file_jpg = os.path.join(file_dir, file[:-3]) + 'jpg'\n",
    "        jpg_target = os.path.join(TRAIN_PATH, file[:-3]) + 'jpg'\n",
    "        xml_target = os.path.join(TRAIN_PATH, file)\n",
    "        \n",
    "        if not os.path.exists(file_xml):\n",
    "            print(f'xml ga ada | {file_xml}')\n",
    "        \n",
    "        if not os.path.exists(file_jpg): \n",
    "            print(f'jpg ga ada | {file_jpg}')\n",
    "        \n",
    "        shutil.copy(file_xml, xml_target)\n",
    "        shutil.copy(file_jpg, jpg_target)\n",
    "    \n",
    "    #copy file to test\n",
    "    for file in file_for_test:\n",
    "        file_xml = os.path.join(file_dir, file)\n",
    "        file_jpg = os.path.join(file_dir, file[:-3]) + 'jpg'\n",
    "        jpg_target = os.path.join(TEST_PATH, file[:-3]) + 'jpg'\n",
    "        xml_target = os.path.join(TEST_PATH, file)\n",
    "        \n",
    "        if not os.path.exists(file_xml):\n",
    "            print(f'xml ga ada | {file_xml}')\n",
    "        \n",
    "        if not os.path.exists(file_jpg): \n",
    "            print(f'jpg ga ada | {file_jpg}')\n",
    "            \n",
    "        shutil.copy(file_xml, xml_target)\n",
    "        shutil.copy(file_jpg, jpg_target)\n",
    "\n",
    "    # break\n",
    "    # print(f\"Train data : {len(os.listdir(TRAIN_PATH)) / 2} data | Test data : {len(os.listdir(TEST_PATH)) / 2} data | Total saat ini : {(len(os.listdir(TRAIN_PATH)) + len(os.listdir(TEST_PATH))) / 2}\")\n",
    "    # print()\n",
    "    \n",
    "print(f\"Total data : {total}\")"
   ]
  },
  {
   "cell_type": "markdown",
   "metadata": {},
   "source": [
    "Cek ukuran test dan train"
   ]
  },
  {
   "cell_type": "code",
   "execution_count": 5,
   "metadata": {},
   "outputs": [
    {
     "name": "stdout",
     "output_type": "stream",
     "text": [
      "Train data : 5620.0 data\n",
      "Test data : 993.0 data\n",
      "Total data (jumlah split) : 6613.0\n"
     ]
    }
   ],
   "source": [
    "print(f\"Train data : {len(os.listdir(TRAIN_PATH)) / 2} data\")\n",
    "print(f\"Test data : {len(os.listdir(TEST_PATH)) / 2} data\")\n",
    "print(f\"Total data (jumlah split) : {(len(os.listdir(TRAIN_PATH)) + len(os.listdir(TEST_PATH))) / 2}\")"
   ]
  },
  {
   "cell_type": "markdown",
   "metadata": {},
   "source": [
    "## Cek error kalau ukuran total data != jumlah split"
   ]
  },
  {
   "cell_type": "markdown",
   "metadata": {},
   "source": [
    "### cek kondisi dataset"
   ]
  },
  {
   "cell_type": "code",
   "execution_count": 6,
   "metadata": {},
   "outputs": [
    {
     "name": "stdout",
     "output_type": "stream",
     "text": [
      "botolkaca\t | 1800 | (jpg, xml, jpg == xml) : (900, 900, True) \n",
      "botolplastik\t | 1762 | (jpg, xml, jpg == xml) : (881, 881, True) \n",
      "kaleng\t\t | 2154 | (jpg, xml, jpg == xml) : (1077, 1077, True) \n",
      "kardus\t\t | 1380 | (jpg, xml, jpg == xml) : (690, 690, True) \n",
      "karet\t\t | 1174 | (jpg, xml, jpg == xml) : (587, 587, True) \n",
      "kertas\t\t | 1458 | (jpg, xml, jpg == xml) : (729, 729, True) \n",
      "plastik\t\t | 1220 | (jpg, xml, jpg == xml) : (610, 610, True) \n",
      "sedotan\t\t | 2280 | (jpg, xml, jpg == xml) : (1140, 1140, True) \n",
      "Total : 6614.0\n"
     ]
    }
   ],
   "source": [
    "total = 0\n",
    "for file_folder_name in labels:\n",
    "    file_dir = os.path.join(IMAGES_PATH, file_folder_name)\n",
    "    data_dir = os.listdir(file_dir)\n",
    "    jum_jpg, jum_xml = 0, 0\n",
    "    \n",
    "    for i in data_dir:\n",
    "        # print(i[-3:])\n",
    "        if i[-3:] == 'jpg': \n",
    "            jum_jpg += 1\n",
    "        elif i[-3:] == 'xml':\n",
    "            jum_xml += 1\n",
    "        else:\n",
    "            print('hmmm... sus')\n",
    "\n",
    "    name = file_folder_name + '\\t' if len(file_folder_name) > 7 else file_folder_name + '\\t\\t'\n",
    "    print(f\"{name} | {jum_jpg * 2} | (jpg, xml, jpg == xml) : {jum_jpg, jum_xml, jum_jpg==jum_xml,} \")\n",
    "    total += (jum_jpg + jum_xml)\n",
    "    \n",
    "print(f'Total : {total / 2}')"
   ]
  },
  {
   "cell_type": "markdown",
   "metadata": {},
   "source": [
    "### cek tiap2 gambar ada xmlnya atau tidak"
   ]
  },
  {
   "cell_type": "code",
   "execution_count": 7,
   "metadata": {},
   "outputs": [
    {
     "name": "stdout",
     "output_type": "stream",
     "text": [
      "botolkaca lengkap\n",
      "botolplastik lengkap\n",
      "kaleng lengkap\n",
      "kardus lengkap\n",
      "karet lengkap\n",
      "kertas lengkap\n",
      "plastik lengkap\n",
      "sedotan lengkap\n"
     ]
    }
   ],
   "source": [
    "total = 0\n",
    "for file_folder_name in labels:\n",
    "    file_dir = os.path.join(IMAGES_PATH, file_folder_name)\n",
    "    data_dir = os.listdir(file_dir)\n",
    "    jum_jpg, jum_xml = 0, 0\n",
    "    \n",
    "    isLengkap = True\n",
    "    for i in range(0, len(data_dir), 2):\n",
    "        jpg_available = os.path.exists(os.path.join(file_dir, (data_dir[i][:-3] + 'jpg')))\n",
    "        xml_available = os.path.exists(os.path.join(file_dir, (data_dir[i][:-3] + 'xml')))\n",
    "        \n",
    "        if jpg_available != xml_available:\n",
    "            print(data_dir[i][:-3])\n",
    "            isLengkap = False \n",
    "            \n",
    "    if isLengkap: \n",
    "        print(f\"{file_folder_name} lengkap\")\n",
    "    else: \n",
    "        print(f\"{file_folder_name} tidak lengkap\")"
   ]
  }
 ],
 "metadata": {
  "interpreter": {
   "hash": "f08154012ddadd8e950e6e9e035c7a7b32c136e7647e9b7c77e02eb723a8bedb"
  },
  "kernelspec": {
   "display_name": "Python 3.9.12 ('base')",
   "language": "python",
   "name": "python3"
  },
  "language_info": {
   "codemirror_mode": {
    "name": "ipython",
    "version": 3
   },
   "file_extension": ".py",
   "mimetype": "text/x-python",
   "name": "python",
   "nbconvert_exporter": "python",
   "pygments_lexer": "ipython3",
   "version": "3.9.12"
  }
 },
 "nbformat": 4,
 "nbformat_minor": 2
}
