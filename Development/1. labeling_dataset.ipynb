{
 "cells": [
  {
   "cell_type": "code",
   "execution_count": 1,
   "metadata": {},
   "outputs": [],
   "source": [
    "import os"
   ]
  },
  {
   "cell_type": "markdown",
   "metadata": {},
   "source": [
    "## Create directory for each label"
   ]
  },
  {
   "cell_type": "code",
   "execution_count": null,
   "metadata": {},
   "outputs": [],
   "source": [
    "COLLECTED_IMG_PATH = r'.\\Tensorflow\\workspace\\images\\collectedimages'\n",
    "IMAGES_PATH = os.path.join('Tensorflow', 'workspace', 'images', 'collectedimages')\n",
    "\n",
    "labels = os.listdir(COLLECTED_IMG_PATH)\n",
    "\n",
    "if not os.path.exists(IMAGES_PATH):\n",
    "    os.mkdir(IMAGES_PATH)\n",
    "    \n",
    "for label in labels:\n",
    "    path = os.path.join(IMAGES_PATH, label)\n",
    "    if not os.path.exists(path):\n",
    "        os.mkdir(path)"
   ]
  },
  {
   "cell_type": "markdown",
   "metadata": {},
   "source": [
    "## Manual Labeling"
   ]
  },
  {
   "cell_type": "code",
   "execution_count": 4,
   "metadata": {},
   "outputs": [],
   "source": [
    "# !pip install --upgrade pyqt5 lxml"
   ]
  },
  {
   "cell_type": "code",
   "execution_count": 5,
   "metadata": {},
   "outputs": [],
   "source": [
    "LABELIMG_PATH = os.path.join('Tensorflow', 'labelimg')\n",
    "\n",
    "if not os.path.exists(LABELIMG_PATH):\n",
    "    !mkdir {LABELIMG_PATH}\n",
    "    !git clone https://github.com/tzutalin/labelImg {LABELIMG_PATH}"
   ]
  },
  {
   "cell_type": "code",
   "execution_count": 6,
   "metadata": {},
   "outputs": [],
   "source": [
    "!cd {LABELIMG_PATH} && pyrcc5 -o libs/resources.py resources.qrc"
   ]
  },
  {
   "cell_type": "code",
   "execution_count": null,
   "metadata": {},
   "outputs": [],
   "source": [
    "# Nanti muncul python gui, pakai python gui itu buat extract fitur\n",
    "!cd {LABELIMG_PATH} && python labelImg.py"
   ]
  },
  {
   "cell_type": "markdown",
   "metadata": {},
   "source": [
    "# Splitting Data to Train and Test"
   ]
  },
  {
   "cell_type": "code",
   "execution_count": 4,
   "metadata": {},
   "outputs": [],
   "source": [
    "TRAIN_PATH = os.path.join('Tensorflow', 'workspace', 'images', 'train')\n",
    "TEST_PATH = os.path.join('Tensorflow', 'workspace', 'images', 'test')\n",
    "\n",
    "if not os.path.exists(TRAIN_PATH):\n",
    "    os.mkdir(TRAIN_PATH)\n",
    "\n",
    "if not os.path.exists(TEST_PATH):\n",
    "    os.mkdir(TEST_PATH)"
   ]
  },
  {
   "cell_type": "code",
   "execution_count": 5,
   "metadata": {},
   "outputs": [
    {
     "name": "stdout",
     "output_type": "stream",
     "text": [
      "botolkaca\t | Train : 720\tTest : 180\tTotal : 900\n",
      "botolplastik\t | Train : 642\tTest : 161\tTotal : 803\n",
      "kaleng\t\t | Train : 684\tTest : 171\tTotal : 855\n",
      "kardus\t\t | Train : 552\tTest : 138\tTotal : 690\n",
      "karet\t\t | Train : 426\tTest : 107\tTotal : 533\n",
      "kertas\t\t | Train : 450\tTest : 113\tTotal : 563\n",
      "plastik\t\t | Train : 438\tTest : 110\tTotal : 548\n",
      "sedotan\t\t | Train : 757\tTest : 190\tTotal : 947\n",
      "Total data : 5839\n"
     ]
    }
   ],
   "source": [
    "# Shuffle and copy collected image to train and test dir\n",
    "import random\n",
    "import shutil\n",
    "import numpy as np\n",
    "\n",
    "TRAIN_TO_TOTAL_RATIO = 0.8\n",
    "RANDOM_SEED = 101\n",
    "\n",
    "random.seed(RANDOM_SEED)\n",
    "np.random.seed(RANDOM_SEED)\n",
    "\n",
    "#Creating list for train and test\n",
    "total = 0\n",
    "for file_folder_name in labels:\n",
    "    xml_list = []\n",
    "    file_for_test = []\n",
    "    file_dir = os.path.join(IMAGES_PATH, file_folder_name)\n",
    "    xml_list = np.array([file for file in os.listdir(file_dir) if file.endswith('xml')])\n",
    "    train_num = int((TRAIN_TO_TOTAL_RATIO*len(xml_list))//1)\n",
    "    \n",
    "    # file_for_training = list(random.sample(xml_list, train_num))\n",
    "    np.random.shuffle(xml_list)\n",
    "    file_for_training = xml_list[:train_num]\n",
    "    file_for_test = [file for file in xml_list if file not in file_for_training]\n",
    "    \n",
    "    # Verbose\n",
    "    name = file_folder_name if len(file_folder_name) > 7 else file_folder_name + '\\t'\n",
    "    print(f\"{name}\\t | Train : {len(file_for_training)}\\tTest : {len(file_for_test)}\\tTotal : {len(file_for_training) + len(file_for_test)}\")\n",
    "    total += (len(file_for_training) + len(file_for_test))\n",
    "    \n",
    "    #copy file to training\n",
    "    for file in file_for_training:\n",
    "        file_xml = os.path.join(file_dir, file)\n",
    "        file_jpg = os.path.join(file_dir, file[:-3]) + 'jpg'\n",
    "        jpg_target = os.path.join(TRAIN_PATH, file[:-3]) + 'jpg'\n",
    "        xml_target = os.path.join(TRAIN_PATH, file)\n",
    "        \n",
    "        # if not os.path.exists(file_xml):\n",
    "        #     print(f'xml ga ada | {file_xml}')\n",
    "        \n",
    "        # if not os.path.exists(file_jpg): \n",
    "        #     print(f'jpg ga ada | {file_jpg}')\n",
    "        \n",
    "        shutil.copyfile(file_xml, xml_target)\n",
    "        shutil.copyfile(file_jpg, jpg_target)\n",
    "    \n",
    "    #copy file to test\n",
    "    for file in file_for_test:\n",
    "        file_xml = os.path.join(file_dir, file)\n",
    "        file_jpg = os.path.join(file_dir, file[:-3]) + 'jpg'\n",
    "        jpg_target = os.path.join(TEST_PATH, file[:-3]) + 'jpg'\n",
    "        xml_target = os.path.join(TEST_PATH, file)\n",
    "        \n",
    "        # if not os.path.exists(file_xml):\n",
    "        #     print(f'xml ga ada | {file_xml}')\n",
    "        \n",
    "        # if not os.path.exists(file_jpg): \n",
    "        #     print(f'jpg ga ada | {file_jpg}')\n",
    "            \n",
    "        shutil.copyfile(file_xml, xml_target)\n",
    "        shutil.copyfile(file_jpg, jpg_target)\n",
    "\n",
    "    # break\n",
    "    \n",
    "print(f\"Total data : {total}\")"
   ]
  },
  {
   "cell_type": "markdown",
   "metadata": {},
   "source": [
    "Cek ukuran test dan train"
   ]
  },
  {
   "cell_type": "code",
   "execution_count": 9,
   "metadata": {},
   "outputs": [
    {
     "name": "stdout",
     "output_type": "stream",
     "text": [
      "Train data : 4669.0 data\n",
      "Test data : 1170.0 data\n",
      "Total data : 5839.0\n"
     ]
    }
   ],
   "source": [
    "print(f\"Train data : {len(os.listdir(TRAIN_PATH)) / 2} data\")\n",
    "print(f\"Test data : {len(os.listdir(TEST_PATH)) / 2} data\")\n",
    "print(f\"Total data : {(len(os.listdir(TRAIN_PATH)) + len(os.listdir(TEST_PATH))) / 2}\")"
   ]
  }
 ],
 "metadata": {
  "interpreter": {
   "hash": "f08154012ddadd8e950e6e9e035c7a7b32c136e7647e9b7c77e02eb723a8bedb"
  },
  "kernelspec": {
   "display_name": "Python 3.9.12 ('base')",
   "language": "python",
   "name": "python3"
  },
  "language_info": {
   "codemirror_mode": {
    "name": "ipython",
    "version": 3
   },
   "file_extension": ".py",
   "mimetype": "text/x-python",
   "name": "python",
   "nbconvert_exporter": "python",
   "pygments_lexer": "ipython3",
   "version": "3.9.12"
  }
 },
 "nbformat": 4,
 "nbformat_minor": 2
}
