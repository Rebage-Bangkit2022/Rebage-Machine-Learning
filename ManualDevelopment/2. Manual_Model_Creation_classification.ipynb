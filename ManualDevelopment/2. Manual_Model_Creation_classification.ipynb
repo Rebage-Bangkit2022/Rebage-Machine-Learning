{
 "cells": [
  {
   "cell_type": "code",
   "execution_count": 1,
   "metadata": {},
   "outputs": [],
   "source": [
    "import os\n",
    "import tensorflow as tf\n",
    "from tensorflow import keras\n",
    "from tensorflow.keras import layers\n",
    "from tensorflow.keras.models import Sequential\n",
    "from tensorflow.keras.preprocessing.image import ImageDataGenerator"
   ]
  },
  {
   "cell_type": "markdown",
   "metadata": {},
   "source": [
    "## Processing Data"
   ]
  },
  {
   "cell_type": "code",
   "execution_count": 2,
   "metadata": {},
   "outputs": [
    {
     "name": "stdout",
     "output_type": "stream",
     "text": [
      "Classes : ['botolkaca', 'botolplastik', 'kaleng', 'kardus', 'karet', 'kertas', 'plastik', 'sedotan']\n",
      "Num class : 8\n"
     ]
    }
   ],
   "source": [
    "collected_img = r'.\\collectedimages' \n",
    "classes = os.listdir(collected_img)\n",
    "num_classes = len(classes)\n",
    "\n",
    "print(f'Classes : {classes}\\nNum class : {num_classes}')"
   ]
  },
  {
   "cell_type": "code",
   "execution_count": 3,
   "metadata": {},
   "outputs": [
    {
     "name": "stdout",
     "output_type": "stream",
     "text": [
      "Found 2938 images belonging to 8 classes.\n",
      "Found 729 images belonging to 8 classes.\n"
     ]
    }
   ],
   "source": [
    "datagen = ImageDataGenerator(\n",
    "                rotation_range=5,\n",
    "                width_shift_range=0.2,\n",
    "                height_shift_range=0.2,\n",
    "                rescale=1/255.,\n",
    "                # shear_range=0.2,\n",
    "                # zoom_range=0.2,\n",
    "                horizontal_flip=True,\n",
    "                fill_mode='nearest',\n",
    "                validation_split=0.2\n",
    "                )\n",
    "\n",
    "batch_size = 32\n",
    "\n",
    "train_gene = datagen.flow_from_directory(\n",
    "        collected_img,  \n",
    "        target_size=(224, 224),  \n",
    "        batch_size=batch_size,\n",
    "        subset='training',\n",
    "        # shuffle=False,\n",
    "        classes=classes)\n",
    "\n",
    "valid_gene = datagen.flow_from_directory(\n",
    "        collected_img,\n",
    "        target_size=(224, 224), \n",
    "        batch_size=batch_size, \n",
    "        subset='validation',\n",
    "        # shuffle=False,\n",
    "        classes=classes)"
   ]
  },
  {
   "cell_type": "markdown",
   "metadata": {},
   "source": [
    "## Model Creation"
   ]
  },
  {
   "cell_type": "code",
   "execution_count": 4,
   "metadata": {},
   "outputs": [],
   "source": [
    "from tensorflow.keras.applications.mobilenet import MobileNet\n",
    "from tensorflow.keras.layers import GlobalAveragePooling2D, Dense, Dropout, Flatten, BatchNormalization\n",
    "from tensorflow.keras.models import Sequential\n",
    "from tensorflow.keras.models import Model"
   ]
  },
  {
   "cell_type": "code",
   "execution_count": 15,
   "metadata": {},
   "outputs": [],
   "source": [
    "base_model = MobileNet(weights='imagenet', include_top=False, input_shape=(224, 224, 3))\n",
    "\n",
    "# for layer in base_model.layers:\n",
    "#     layer.trainable = False\n",
    "trainable_break = 40\n",
    "for layer in base_model.layers[:trainable_break]:\n",
    "    # print(layer.name)\n",
    "    layer.trainable=False\n",
    "    \n",
    "for layer in base_model.layers[trainable_break:]:\n",
    "    layer.trainable=True\n",
    "\n",
    "x = base_model.output\n",
    "x = GlobalAveragePooling2D()(x)\n",
    "x = Dropout(.3)(x)\n",
    "x = Dense(1024,activation='relu')(x)\n",
    "x = Dropout(.3)(x)\n",
    "x = Dense(1024,activation='relu')(x)\n",
    "x = Dropout(.3)(x)\n",
    "preds = Dense(num_classes, activation='sigmoid')(x)\n",
    "\n",
    "model=Model(inputs=base_model.input, outputs=preds)"
   ]
  },
  {
   "cell_type": "code",
   "execution_count": 16,
   "metadata": {},
   "outputs": [
    {
     "name": "stdout",
     "output_type": "stream",
     "text": [
      "Model: \"model_6\"\n",
      "_________________________________________________________________\n",
      " Layer (type)                Output Shape              Param #   \n",
      "=================================================================\n",
      " input_7 (InputLayer)        [(None, 224, 224, 3)]     0         \n",
      "                                                                 \n",
      " conv1 (Conv2D)              (None, 112, 112, 32)      864       \n",
      "                                                                 \n",
      " conv1_bn (BatchNormalizatio  (None, 112, 112, 32)     128       \n",
      " n)                                                              \n",
      "                                                                 \n",
      " conv1_relu (ReLU)           (None, 112, 112, 32)      0         \n",
      "                                                                 \n",
      " conv_dw_1 (DepthwiseConv2D)  (None, 112, 112, 32)     288       \n",
      "                                                                 \n",
      " conv_dw_1_bn (BatchNormaliz  (None, 112, 112, 32)     128       \n",
      " ation)                                                          \n",
      "                                                                 \n",
      " conv_dw_1_relu (ReLU)       (None, 112, 112, 32)      0         \n",
      "                                                                 \n",
      " conv_pw_1 (Conv2D)          (None, 112, 112, 64)      2048      \n",
      "                                                                 \n",
      " conv_pw_1_bn (BatchNormaliz  (None, 112, 112, 64)     256       \n",
      " ation)                                                          \n",
      "                                                                 \n",
      " conv_pw_1_relu (ReLU)       (None, 112, 112, 64)      0         \n",
      "                                                                 \n",
      " conv_pad_2 (ZeroPadding2D)  (None, 113, 113, 64)      0         \n",
      "                                                                 \n",
      " conv_dw_2 (DepthwiseConv2D)  (None, 56, 56, 64)       576       \n",
      "                                                                 \n",
      " conv_dw_2_bn (BatchNormaliz  (None, 56, 56, 64)       256       \n",
      " ation)                                                          \n",
      "                                                                 \n",
      " conv_dw_2_relu (ReLU)       (None, 56, 56, 64)        0         \n",
      "                                                                 \n",
      " conv_pw_2 (Conv2D)          (None, 56, 56, 128)       8192      \n",
      "                                                                 \n",
      " conv_pw_2_bn (BatchNormaliz  (None, 56, 56, 128)      512       \n",
      " ation)                                                          \n",
      "                                                                 \n",
      " conv_pw_2_relu (ReLU)       (None, 56, 56, 128)       0         \n",
      "                                                                 \n",
      " conv_dw_3 (DepthwiseConv2D)  (None, 56, 56, 128)      1152      \n",
      "                                                                 \n",
      " conv_dw_3_bn (BatchNormaliz  (None, 56, 56, 128)      512       \n",
      " ation)                                                          \n",
      "                                                                 \n",
      " conv_dw_3_relu (ReLU)       (None, 56, 56, 128)       0         \n",
      "                                                                 \n",
      " conv_pw_3 (Conv2D)          (None, 56, 56, 128)       16384     \n",
      "                                                                 \n",
      " conv_pw_3_bn (BatchNormaliz  (None, 56, 56, 128)      512       \n",
      " ation)                                                          \n",
      "                                                                 \n",
      " conv_pw_3_relu (ReLU)       (None, 56, 56, 128)       0         \n",
      "                                                                 \n",
      " conv_pad_4 (ZeroPadding2D)  (None, 57, 57, 128)       0         \n",
      "                                                                 \n",
      " conv_dw_4 (DepthwiseConv2D)  (None, 28, 28, 128)      1152      \n",
      "                                                                 \n",
      " conv_dw_4_bn (BatchNormaliz  (None, 28, 28, 128)      512       \n",
      " ation)                                                          \n",
      "                                                                 \n",
      " conv_dw_4_relu (ReLU)       (None, 28, 28, 128)       0         \n",
      "                                                                 \n",
      " conv_pw_4 (Conv2D)          (None, 28, 28, 256)       32768     \n",
      "                                                                 \n",
      " conv_pw_4_bn (BatchNormaliz  (None, 28, 28, 256)      1024      \n",
      " ation)                                                          \n",
      "                                                                 \n",
      " conv_pw_4_relu (ReLU)       (None, 28, 28, 256)       0         \n",
      "                                                                 \n",
      " conv_dw_5 (DepthwiseConv2D)  (None, 28, 28, 256)      2304      \n",
      "                                                                 \n",
      " conv_dw_5_bn (BatchNormaliz  (None, 28, 28, 256)      1024      \n",
      " ation)                                                          \n",
      "                                                                 \n",
      " conv_dw_5_relu (ReLU)       (None, 28, 28, 256)       0         \n",
      "                                                                 \n",
      " conv_pw_5 (Conv2D)          (None, 28, 28, 256)       65536     \n",
      "                                                                 \n",
      " conv_pw_5_bn (BatchNormaliz  (None, 28, 28, 256)      1024      \n",
      " ation)                                                          \n",
      "                                                                 \n",
      " conv_pw_5_relu (ReLU)       (None, 28, 28, 256)       0         \n",
      "                                                                 \n",
      " conv_pad_6 (ZeroPadding2D)  (None, 29, 29, 256)       0         \n",
      "                                                                 \n",
      " conv_dw_6 (DepthwiseConv2D)  (None, 14, 14, 256)      2304      \n",
      "                                                                 \n",
      " conv_dw_6_bn (BatchNormaliz  (None, 14, 14, 256)      1024      \n",
      " ation)                                                          \n",
      "                                                                 \n",
      " conv_dw_6_relu (ReLU)       (None, 14, 14, 256)       0         \n",
      "                                                                 \n",
      " conv_pw_6 (Conv2D)          (None, 14, 14, 512)       131072    \n",
      "                                                                 \n",
      " conv_pw_6_bn (BatchNormaliz  (None, 14, 14, 512)      2048      \n",
      " ation)                                                          \n",
      "                                                                 \n",
      " conv_pw_6_relu (ReLU)       (None, 14, 14, 512)       0         \n",
      "                                                                 \n",
      " conv_dw_7 (DepthwiseConv2D)  (None, 14, 14, 512)      4608      \n",
      "                                                                 \n",
      " conv_dw_7_bn (BatchNormaliz  (None, 14, 14, 512)      2048      \n",
      " ation)                                                          \n",
      "                                                                 \n",
      " conv_dw_7_relu (ReLU)       (None, 14, 14, 512)       0         \n",
      "                                                                 \n",
      " conv_pw_7 (Conv2D)          (None, 14, 14, 512)       262144    \n",
      "                                                                 \n",
      " conv_pw_7_bn (BatchNormaliz  (None, 14, 14, 512)      2048      \n",
      " ation)                                                          \n",
      "                                                                 \n",
      " conv_pw_7_relu (ReLU)       (None, 14, 14, 512)       0         \n",
      "                                                                 \n",
      " conv_dw_8 (DepthwiseConv2D)  (None, 14, 14, 512)      4608      \n",
      "                                                                 \n",
      " conv_dw_8_bn (BatchNormaliz  (None, 14, 14, 512)      2048      \n",
      " ation)                                                          \n",
      "                                                                 \n",
      " conv_dw_8_relu (ReLU)       (None, 14, 14, 512)       0         \n",
      "                                                                 \n",
      " conv_pw_8 (Conv2D)          (None, 14, 14, 512)       262144    \n",
      "                                                                 \n",
      " conv_pw_8_bn (BatchNormaliz  (None, 14, 14, 512)      2048      \n",
      " ation)                                                          \n",
      "                                                                 \n",
      " conv_pw_8_relu (ReLU)       (None, 14, 14, 512)       0         \n",
      "                                                                 \n",
      " conv_dw_9 (DepthwiseConv2D)  (None, 14, 14, 512)      4608      \n",
      "                                                                 \n",
      " conv_dw_9_bn (BatchNormaliz  (None, 14, 14, 512)      2048      \n",
      " ation)                                                          \n",
      "                                                                 \n",
      " conv_dw_9_relu (ReLU)       (None, 14, 14, 512)       0         \n",
      "                                                                 \n",
      " conv_pw_9 (Conv2D)          (None, 14, 14, 512)       262144    \n",
      "                                                                 \n",
      " conv_pw_9_bn (BatchNormaliz  (None, 14, 14, 512)      2048      \n",
      " ation)                                                          \n",
      "                                                                 \n",
      " conv_pw_9_relu (ReLU)       (None, 14, 14, 512)       0         \n",
      "                                                                 \n",
      " conv_dw_10 (DepthwiseConv2D  (None, 14, 14, 512)      4608      \n",
      " )                                                               \n",
      "                                                                 \n",
      " conv_dw_10_bn (BatchNormali  (None, 14, 14, 512)      2048      \n",
      " zation)                                                         \n",
      "                                                                 \n",
      " conv_dw_10_relu (ReLU)      (None, 14, 14, 512)       0         \n",
      "                                                                 \n",
      " conv_pw_10 (Conv2D)         (None, 14, 14, 512)       262144    \n",
      "                                                                 \n",
      " conv_pw_10_bn (BatchNormali  (None, 14, 14, 512)      2048      \n",
      " zation)                                                         \n",
      "                                                                 \n",
      " conv_pw_10_relu (ReLU)      (None, 14, 14, 512)       0         \n",
      "                                                                 \n",
      " conv_dw_11 (DepthwiseConv2D  (None, 14, 14, 512)      4608      \n",
      " )                                                               \n",
      "                                                                 \n",
      " conv_dw_11_bn (BatchNormali  (None, 14, 14, 512)      2048      \n",
      " zation)                                                         \n",
      "                                                                 \n",
      " conv_dw_11_relu (ReLU)      (None, 14, 14, 512)       0         \n",
      "                                                                 \n",
      " conv_pw_11 (Conv2D)         (None, 14, 14, 512)       262144    \n",
      "                                                                 \n",
      " conv_pw_11_bn (BatchNormali  (None, 14, 14, 512)      2048      \n",
      " zation)                                                         \n",
      "                                                                 \n",
      " conv_pw_11_relu (ReLU)      (None, 14, 14, 512)       0         \n",
      "                                                                 \n",
      " conv_pad_12 (ZeroPadding2D)  (None, 15, 15, 512)      0         \n",
      "                                                                 \n",
      " conv_dw_12 (DepthwiseConv2D  (None, 7, 7, 512)        4608      \n",
      " )                                                               \n",
      "                                                                 \n",
      " conv_dw_12_bn (BatchNormali  (None, 7, 7, 512)        2048      \n",
      " zation)                                                         \n",
      "                                                                 \n",
      " conv_dw_12_relu (ReLU)      (None, 7, 7, 512)         0         \n",
      "                                                                 \n",
      " conv_pw_12 (Conv2D)         (None, 7, 7, 1024)        524288    \n",
      "                                                                 \n",
      " conv_pw_12_bn (BatchNormali  (None, 7, 7, 1024)       4096      \n",
      " zation)                                                         \n",
      "                                                                 \n",
      " conv_pw_12_relu (ReLU)      (None, 7, 7, 1024)        0         \n",
      "                                                                 \n",
      " conv_dw_13 (DepthwiseConv2D  (None, 7, 7, 1024)       9216      \n",
      " )                                                               \n",
      "                                                                 \n",
      " conv_dw_13_bn (BatchNormali  (None, 7, 7, 1024)       4096      \n",
      " zation)                                                         \n",
      "                                                                 \n",
      " conv_dw_13_relu (ReLU)      (None, 7, 7, 1024)        0         \n",
      "                                                                 \n",
      " conv_pw_13 (Conv2D)         (None, 7, 7, 1024)        1048576   \n",
      "                                                                 \n",
      " conv_pw_13_bn (BatchNormali  (None, 7, 7, 1024)       4096      \n",
      " zation)                                                         \n",
      "                                                                 \n",
      " conv_pw_13_relu (ReLU)      (None, 7, 7, 1024)        0         \n",
      "                                                                 \n",
      " global_average_pooling2d_6   (None, 1024)             0         \n",
      " (GlobalAveragePooling2D)                                        \n",
      "                                                                 \n",
      " dropout_18 (Dropout)        (None, 1024)              0         \n",
      "                                                                 \n",
      " dense_18 (Dense)            (None, 1024)              1049600   \n",
      "                                                                 \n",
      " dropout_19 (Dropout)        (None, 1024)              0         \n",
      "                                                                 \n",
      " dense_19 (Dense)            (None, 1024)              1049600   \n",
      "                                                                 \n",
      " dropout_20 (Dropout)        (None, 1024)              0         \n",
      "                                                                 \n",
      " dense_20 (Dense)            (None, 8)                 8200      \n",
      "                                                                 \n",
      "=================================================================\n",
      "Total params: 5,336,264\n",
      "Trainable params: 5,177,352\n",
      "Non-trainable params: 158,912\n",
      "_________________________________________________________________\n"
     ]
    }
   ],
   "source": [
    "model.summary()"
   ]
  },
  {
   "cell_type": "code",
   "execution_count": 7,
   "metadata": {},
   "outputs": [],
   "source": [
    "# from tensorflow.keras import backend as K\n",
    "\n",
    "# def Recall(y_true, y_pred):\n",
    "#     true_positives = K.sum(K.round(K.clip(y_true * y_pred, 0, 1)))\n",
    "#     possible_positives = K.sum(K.round(K.clip(y_true, 0, 1)))\n",
    "#     recall = true_positives / (possible_positives + K.epsilon())\n",
    "#     return recall\n",
    "\n",
    "# def Precision(y_true, y_pred):\n",
    "#     true_positives = K.sum(K.round(K.clip(y_true * y_pred, 0, 1)))\n",
    "#     predicted_positives = K.sum(K.round(K.clip(y_pred, 0, 1)))\n",
    "#     precision = true_positives / (predicted_positives + K.epsilon())\n",
    "#     return precision\n",
    "\n",
    "# def F1Score(y_true, y_pred):\n",
    "#     precision = Precision(y_true, y_pred)\n",
    "#     recall = Recall(y_true, y_pred)\n",
    "#     return 2*((precision*recall)/(precision+recall+K.epsilon()))"
   ]
  },
  {
   "cell_type": "code",
   "execution_count": 17,
   "metadata": {},
   "outputs": [],
   "source": [
    "model.compile(optimizer='adam', \n",
    "                loss='categorical_crossentropy', \n",
    "                metrics=['accuracy'])"
   ]
  },
  {
   "cell_type": "code",
   "execution_count": 18,
   "metadata": {},
   "outputs": [
    {
     "name": "stdout",
     "output_type": "stream",
     "text": [
      "Epoch 1/50\n",
      "91/91 [==============================] - 47s 434ms/step - loss: 0.6674 - accuracy: 0.7897 - val_loss: 3.3141 - val_accuracy: 0.4858\n",
      "Epoch 2/50\n",
      "91/91 [==============================] - 36s 392ms/step - loss: 0.3092 - accuracy: 0.9102 - val_loss: 4.1076 - val_accuracy: 0.4489\n",
      "Epoch 3/50\n",
      "91/91 [==============================] - 36s 392ms/step - loss: 0.2039 - accuracy: 0.9381 - val_loss: 2.6993 - val_accuracy: 0.5256\n",
      "Epoch 4/50\n",
      "91/91 [==============================] - 36s 393ms/step - loss: 0.1405 - accuracy: 0.9580 - val_loss: 5.6015 - val_accuracy: 0.3949\n",
      "Epoch 5/50\n",
      "91/91 [==============================] - 36s 395ms/step - loss: 0.1784 - accuracy: 0.9539 - val_loss: 4.4299 - val_accuracy: 0.4659\n",
      "Epoch 6/50\n",
      "91/91 [==============================] - 36s 394ms/step - loss: 0.1670 - accuracy: 0.9539 - val_loss: 2.9345 - val_accuracy: 0.5554\n",
      "Epoch 7/50\n",
      "91/91 [==============================] - 36s 396ms/step - loss: 0.1793 - accuracy: 0.9511 - val_loss: 3.0699 - val_accuracy: 0.5767\n",
      "Epoch 8/50\n",
      "91/91 [==============================] - 38s 415ms/step - loss: 0.1341 - accuracy: 0.9649 - val_loss: 1.9856 - val_accuracy: 0.5938\n",
      "Epoch 9/50\n",
      "91/91 [==============================] - 37s 405ms/step - loss: 0.1079 - accuracy: 0.9749 - val_loss: 2.2673 - val_accuracy: 0.5938\n",
      "Epoch 10/50\n",
      "91/91 [==============================] - 35s 381ms/step - loss: 0.1417 - accuracy: 0.9666 - val_loss: 1.8275 - val_accuracy: 0.6293\n",
      "Epoch 11/50\n",
      "91/91 [==============================] - 35s 380ms/step - loss: 0.0984 - accuracy: 0.9742 - val_loss: 2.0683 - val_accuracy: 0.6065\n",
      "Epoch 12/50\n",
      "91/91 [==============================] - 35s 381ms/step - loss: 0.1002 - accuracy: 0.9742 - val_loss: 1.1300 - val_accuracy: 0.6960\n",
      "Epoch 13/50\n",
      "91/91 [==============================] - 35s 381ms/step - loss: 0.0950 - accuracy: 0.9752 - val_loss: 2.5570 - val_accuracy: 0.6037\n",
      "Epoch 14/50\n",
      "91/91 [==============================] - 35s 379ms/step - loss: 0.0796 - accuracy: 0.9787 - val_loss: 1.6017 - val_accuracy: 0.6278\n",
      "Epoch 15/50\n",
      "91/91 [==============================] - 35s 380ms/step - loss: 0.0933 - accuracy: 0.9708 - val_loss: 2.0157 - val_accuracy: 0.6591\n",
      "Epoch 16/50\n",
      "91/91 [==============================] - 34s 377ms/step - loss: 0.1121 - accuracy: 0.9721 - val_loss: 1.3739 - val_accuracy: 0.6634\n",
      "Epoch 17/50\n",
      "91/91 [==============================] - 35s 382ms/step - loss: 0.0827 - accuracy: 0.9759 - val_loss: 1.5274 - val_accuracy: 0.6918\n",
      "Epoch 18/50\n",
      "91/91 [==============================] - 35s 381ms/step - loss: 0.0868 - accuracy: 0.9780 - val_loss: 2.6832 - val_accuracy: 0.6335\n",
      "Epoch 19/50\n",
      "91/91 [==============================] - 35s 381ms/step - loss: 0.0644 - accuracy: 0.9825 - val_loss: 1.8605 - val_accuracy: 0.6719\n",
      "Epoch 20/50\n",
      "91/91 [==============================] - 35s 380ms/step - loss: 0.0710 - accuracy: 0.9794 - val_loss: 2.0182 - val_accuracy: 0.7031\n",
      "Epoch 21/50\n",
      "91/91 [==============================] - 35s 379ms/step - loss: 0.0838 - accuracy: 0.9769 - val_loss: 1.3819 - val_accuracy: 0.6875\n",
      "Epoch 22/50\n",
      "91/91 [==============================] - 35s 382ms/step - loss: 0.0396 - accuracy: 0.9886 - val_loss: 1.6706 - val_accuracy: 0.6719\n",
      "Epoch 23/50\n",
      "91/91 [==============================] - 35s 380ms/step - loss: 0.1205 - accuracy: 0.9718 - val_loss: 3.9128 - val_accuracy: 0.4389\n",
      "Epoch 24/50\n",
      "91/91 [==============================] - 35s 380ms/step - loss: 0.0745 - accuracy: 0.9787 - val_loss: 1.6347 - val_accuracy: 0.6207\n",
      "Epoch 25/50\n",
      "91/91 [==============================] - 36s 396ms/step - loss: 0.1008 - accuracy: 0.9756 - val_loss: 1.7234 - val_accuracy: 0.6875\n",
      "Epoch 26/50\n",
      "91/91 [==============================] - 35s 383ms/step - loss: 0.0641 - accuracy: 0.9849 - val_loss: 3.1220 - val_accuracy: 0.6094\n",
      "Epoch 27/50\n",
      "91/91 [==============================] - 35s 383ms/step - loss: 0.0388 - accuracy: 0.9911 - val_loss: 2.4660 - val_accuracy: 0.6733\n",
      "Epoch 28/50\n",
      "91/91 [==============================] - 35s 380ms/step - loss: 0.0904 - accuracy: 0.9815 - val_loss: 1.5046 - val_accuracy: 0.7088\n",
      "Epoch 29/50\n",
      "91/91 [==============================] - 34s 378ms/step - loss: 0.0457 - accuracy: 0.9893 - val_loss: 2.2351 - val_accuracy: 0.6861\n",
      "Epoch 30/50\n",
      "91/91 [==============================] - 37s 404ms/step - loss: 0.0446 - accuracy: 0.9883 - val_loss: 1.9521 - val_accuracy: 0.7131\n",
      "Epoch 31/50\n",
      "91/91 [==============================] - 37s 412ms/step - loss: 0.1053 - accuracy: 0.9763 - val_loss: 1.8167 - val_accuracy: 0.6250\n",
      "Epoch 32/50\n",
      "91/91 [==============================] - 35s 388ms/step - loss: 0.0517 - accuracy: 0.9876 - val_loss: 1.7957 - val_accuracy: 0.6733\n",
      "Epoch 33/50\n",
      "91/91 [==============================] - 36s 394ms/step - loss: 0.1132 - accuracy: 0.9763 - val_loss: 3.9194 - val_accuracy: 0.5369\n",
      "Epoch 34/50\n",
      "91/91 [==============================] - 35s 383ms/step - loss: 0.0974 - accuracy: 0.9766 - val_loss: 2.5163 - val_accuracy: 0.6108\n",
      "Epoch 35/50\n",
      "91/91 [==============================] - 34s 378ms/step - loss: 0.0874 - accuracy: 0.9763 - val_loss: 2.9398 - val_accuracy: 0.5185\n",
      "Epoch 36/50\n",
      "91/91 [==============================] - 34s 378ms/step - loss: 0.0476 - accuracy: 0.9900 - val_loss: 2.7506 - val_accuracy: 0.6477\n",
      "Epoch 37/50\n",
      "91/91 [==============================] - 35s 380ms/step - loss: 0.0717 - accuracy: 0.9838 - val_loss: 1.5126 - val_accuracy: 0.6903\n",
      "Epoch 38/50\n",
      "91/91 [==============================] - 35s 379ms/step - loss: 0.0524 - accuracy: 0.9855 - val_loss: 1.3922 - val_accuracy: 0.7031\n",
      "Epoch 39/50\n",
      "91/91 [==============================] - 34s 377ms/step - loss: 0.0443 - accuracy: 0.9890 - val_loss: 2.0154 - val_accuracy: 0.6719\n",
      "Epoch 40/50\n",
      "91/91 [==============================] - 35s 381ms/step - loss: 0.0182 - accuracy: 0.9969 - val_loss: 2.2658 - val_accuracy: 0.6946\n",
      "Epoch 41/50\n",
      "91/91 [==============================] - 36s 392ms/step - loss: 0.0510 - accuracy: 0.9880 - val_loss: 1.7689 - val_accuracy: 0.7173\n",
      "Epoch 42/50\n",
      "91/91 [==============================] - 35s 387ms/step - loss: 0.0787 - accuracy: 0.9831 - val_loss: 2.0963 - val_accuracy: 0.6349\n",
      "Epoch 43/50\n",
      "91/91 [==============================] - 36s 393ms/step - loss: 0.0622 - accuracy: 0.9880 - val_loss: 2.3654 - val_accuracy: 0.6705\n",
      "Epoch 44/50\n",
      "91/91 [==============================] - 36s 393ms/step - loss: 0.1264 - accuracy: 0.9814 - val_loss: 3.7571 - val_accuracy: 0.6193\n",
      "Epoch 45/50\n",
      "91/91 [==============================] - 36s 391ms/step - loss: 0.0547 - accuracy: 0.9900 - val_loss: 1.5042 - val_accuracy: 0.6818\n",
      "Epoch 46/50\n",
      "91/91 [==============================] - 36s 393ms/step - loss: 0.0712 - accuracy: 0.9852 - val_loss: 1.5807 - val_accuracy: 0.6761\n",
      "Epoch 47/50\n",
      "91/91 [==============================] - 36s 393ms/step - loss: 0.0240 - accuracy: 0.9952 - val_loss: 1.8532 - val_accuracy: 0.6918\n",
      "Epoch 48/50\n",
      "91/91 [==============================] - 36s 393ms/step - loss: 0.0481 - accuracy: 0.9880 - val_loss: 2.5743 - val_accuracy: 0.6676\n",
      "Epoch 49/50\n",
      "91/91 [==============================] - 36s 394ms/step - loss: 0.0480 - accuracy: 0.9918 - val_loss: 3.4916 - val_accuracy: 0.5966\n",
      "Epoch 50/50\n",
      "91/91 [==============================] - 36s 393ms/step - loss: 0.0249 - accuracy: 0.9942 - val_loss: 3.0192 - val_accuracy: 0.6264\n"
     ]
    }
   ],
   "source": [
    "history = model.fit(train_gene, \n",
    "                    epochs = 50, \n",
    "                    steps_per_epoch = train_gene.samples // batch_size,\n",
    "                    validation_data = valid_gene, \n",
    "                    validation_steps = valid_gene.samples // batch_size)"
   ]
  },
  {
   "cell_type": "code",
   "execution_count": 19,
   "metadata": {},
   "outputs": [],
   "source": [
    "import matplotlib.pyplot as plt"
   ]
  },
  {
   "cell_type": "code",
   "execution_count": 20,
   "metadata": {},
   "outputs": [
    {
     "data": {
      "image/png": "[encoded data removed]",
      "text/plain": [
       "<Figure size 576x432 with 1 Axes>"
      ]
     },
     "metadata": {
      "needs_background": "light"
     },
     "output_type": "display_data"
    }
   ],
   "source": [
    "#@title Visualisasi Akurasi\n",
    "plt.figure(figsize=(8, 6))\n",
    "plt.plot(history.history['accuracy'], label=\"Train Akurasi\")\n",
    "plt.plot(history.history['val_accuracy'], label=\"Test Akurasi\")\n",
    "plt.title('Accuracy Visualization')\n",
    "plt.ylabel('Accuracy Value')\n",
    "plt.xlabel('Epoch')\n",
    "plt.legend(loc='upper right')\n",
    "plt.show()"
   ]
  },
  {
   "cell_type": "code",
   "execution_count": 21,
   "metadata": {},
   "outputs": [
    {
     "data": {
      "image/png": "[encoded data removed]",
      "text/plain": [
       "<Figure size 576x432 with 1 Axes>"
      ]
     },
     "metadata": {
      "needs_background": "light"
     },
     "output_type": "display_data"
    }
   ],
   "source": [
    "#@title Visualisasi Loss\n",
    "plt.figure(figsize=(8, 6))\n",
    "plt.plot(history.history['loss'], label=\"Train Loss\")\n",
    "plt.plot(history.history['val_loss'], label=\"Test Loss\")\n",
    "plt.title('Loss Visualization')\n",
    "plt.ylabel('Loss Value')\n",
    "plt.xlabel('Epoch')\n",
    "plt.legend(loc='upper right')\n",
    "plt.show()"
   ]
  },
  {
   "cell_type": "code",
   "execution_count": 22,
   "metadata": {},
   "outputs": [
    {
     "data": {
      "text/plain": [
       "[<KerasTensor: shape=(None, 224, 224, 3) dtype=float32 (created by layer 'input_7')>]"
      ]
     },
     "execution_count": 22,
     "metadata": {},
     "output_type": "execute_result"
    }
   ],
   "source": [
    "model.inputs"
   ]
  },
  {
   "cell_type": "code",
   "execution_count": 23,
   "metadata": {},
   "outputs": [
    {
     "name": "stdout",
     "output_type": "stream",
     "text": [
      "INFO:tensorflow:Assets written to: tensorflow_model_1\\assets\n"
     ]
    }
   ],
   "source": [
    "model.save('tensorflow_model_1')"
   ]
  },
  {
   "cell_type": "code",
   "execution_count": 34,
   "metadata": {},
   "outputs": [],
   "source": [
    "model.save('tensorflow_model_1.h5')"
   ]
  },
  {
   "cell_type": "markdown",
   "metadata": {},
   "source": [
    "## SAVE to BASE64"
   ]
  },
  {
   "cell_type": "code",
   "execution_count": null,
   "metadata": {},
   "outputs": [],
   "source": [
    "def load_model():\n",
    "    model_path = r'.\\tensorflow_model_1.h5'\n",
    "\n",
    "    model = tf.keras.models.load_model(model_path)\n",
    "\n",
    "    # model.summary()\n",
    "\n",
    "    def decode_jpeg(x):\n",
    "        x = tf.io.decode_base64(x)\n",
    "        x =tf.image.resize(tf.image.decode_jpeg(x, channels=3), [224, 224])\n",
    "        x = tf.reshape(x, [224, 224, 3])\n",
    "        return x\n",
    "\n",
    "    @tf.function()\n",
    "    def serve_predict(input):\n",
    "        \n",
    "        model_base64_input = tf.map_fn(lambda x: decode_jpeg(x), input, fn_output_signature=tf.float32)\n",
    "        pixels = model_base64_input\n",
    "\n",
    "        input = {\n",
    "            'input_7': pixels,\n",
    "        }\n",
    "\n",
    "        prediction = model(input)\n",
    "        return prediction\n",
    "\n",
    "    serve_predict = serve_predict.get_concrete_function(input=tf.TensorSpec([None, ], dtype=tf.string))\n",
    "\n",
    "    tf.saved_model.save(\n",
    "        model,\n",
    "        'tf_model',\n",
    "        signatures=serve_predict\n",
    "    )\n",
    "    pass"
   ]
  },
  {
   "cell_type": "code",
   "execution_count": null,
   "metadata": {},
   "outputs": [],
   "source": [
    "load_model()"
   ]
  },
  {
   "cell_type": "markdown",
   "metadata": {},
   "source": [
    "## Test base64"
   ]
  },
  {
   "cell_type": "code",
   "execution_count": null,
   "metadata": {},
   "outputs": [],
   "source": [
    "# from tensorflow.keras.models import load_model\n",
    "# import base64"
   ]
  },
  {
   "cell_type": "code",
   "execution_count": null,
   "metadata": {},
   "outputs": [],
   "source": [
    "# model_loaded = load_model(r'.\\myModels\\001')\n",
    "\n",
    "# IMG_PATH_RANDOM = r'.\\collectedimages\\karet\\20220519_183413.jpg'\n",
    "\n",
    "# with open(IMG_PATH_RANDOM, \"rb\") as image_file:\n",
    "#     encoded_string = base64.b64encode(image_file.read())"
   ]
  },
  {
   "cell_type": "code",
   "execution_count": null,
   "metadata": {},
   "outputs": [],
   "source": [
    "# np.array([encoded_string]).shape"
   ]
  },
  {
   "cell_type": "code",
   "execution_count": null,
   "metadata": {},
   "outputs": [],
   "source": [
    "# model_loaded.predict(encoded_string)"
   ]
  }
 ],
 "metadata": {
  "interpreter": {
   "hash": "f08154012ddadd8e950e6e9e035c7a7b32c136e7647e9b7c77e02eb723a8bedb"
  },
  "kernelspec": {
   "display_name": "Python 3.9.12 ('base')",
   "language": "python",
   "name": "python3"
  },
  "language_info": {
   "codemirror_mode": {
    "name": "ipython",
    "version": 3
   },
   "file_extension": ".py",
   "mimetype": "text/x-python",
   "name": "python",
   "nbconvert_exporter": "python",
   "pygments_lexer": "ipython3",
   "version": "3.9.12"
  },
  "orig_nbformat": 4
 },
 "nbformat": 4,
 "nbformat_minor": 2
}
